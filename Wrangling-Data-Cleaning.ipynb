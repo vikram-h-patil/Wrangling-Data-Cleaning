{
 "cells": [
  {
   "cell_type": "markdown",
   "metadata": {},
   "source": [
    "Author: Vikram H Patil\n",
    "\n",
    "Date: 4/10/2018\n",
    "\n",
    "Version: 1.0\n",
    "\n",
    "Environment: Python 3.6.1 and Jupyter notebook\n",
    "\n",
    "Libraries used: Main libraries used for assignment:\n",
    "* re (for regular expression, included in Anaconda Python 3.6) \n",
    "* sys (to display system version, included in Anaconda Python 3.6) \n",
    "* os (for changing file directory, included in Anaconda Python 3.6) \n",
    "* warnings (to ignore any warnings thrown while execution, included in Anaconda Python 3.6) \n",
    "* pandas(for creating dataframes, included in Anaconda Python 3.6) \n",
    "* matplotlib(for plotting dataframes, included in Anaconda Python 3.6)  \n",
    "* numpy(for numeric calculations, included in Anaconda Python 3.6) \n",
    "* seaborn(for plotting graphs, included in Anaconda Python 3.6) \n",
    "* Few pictures are captured from Tableau\n",
    "* datetime(for verying date time, included in Anaconda Python 3.6) \n",
    "* math(to perform calculation, included in Anaconda Python 3.6)"
   ]
  },
  {
   "cell_type": "markdown",
   "metadata": {},
   "source": [
    "# Contents\n",
    "\n",
    "### 1- Libraries\n",
    "### 2- Read the csv file\n",
    "### 3- Exploring Dataframe:\n",
    "* 3-1 Printing information of DataFrame\n",
    "* 3-2 Describing the DataFrame\n",
    "* 3-3 Displaying the top data\n",
    "* 3.4 Displaying null values for each feature\n",
    "\n",
    "### 4 -Dropping duplicates and ID=null\n",
    "\n",
    "### 5 - Fixing Departure Date\n",
    "*  5-1 Creating a Regex function to clean the date errors\n",
    "* 5-2 function to clean the date errors & return clean data format\n",
    "\n",
    "### 6 - Latitude and Longitude \n",
    "\n",
    "### 7 - Post Type\n",
    "\n",
    "### 8 - Verifying distance\n",
    "*  8-1 Analysis - Calculate the distance using the formula \n",
    "* 8-2 Solution: Drop the Journey Distance Column and rename the calculated distance as the new Journey Distance\n",
    "\n",
    "### 9- Origin Region\n",
    "*  9-1 Analysis - Finding Outliers\n",
    "*  9-2 Finding Outliers and separting them\n",
    "* 9-3 Applying KNN model\n",
    "\n",
    "\n",
    "### 10- Destination Region\n",
    "*  10-1 Analysis - Finding Outliers\n",
    "*  10-2 Finding Outliers and separting them\n",
    "* 10-3 Applying KNN model\n",
    "\n",
    "### 11- Travel Time\n",
    "\n",
    "* 11-1 finding null values\n",
    "* 11-2 Validate travel time= Delivery - Departure\n",
    "* 11-3 Approach to calculate valid travel-time\n",
    "* 11-4 Calculating speed\n",
    "* 11-5 Calculating time\n",
    "* 11-6 Identfying wrong travel time\n",
    "\n",
    "### 12 - Fixing Drone Type\n",
    "* 12-1 Drone type-1\n",
    "* 12-2 Drone type-2\n",
    "* 12-3 Drone type-3\n",
    "* 12-4 Fixing null values in Drone type\n",
    "\n",
    "### 13- Delivery time\n",
    "\n",
    "\n",
    "### 14- Delivery Price\n",
    "\n",
    "* 14-1 Divding the Departure time into intervals\n",
    "* 14-2 EDA on Delivery price - Detection of outliers on Drone type\n",
    "* 14-3 Clean outliers in Drone type agaisnt Delivery fare\n",
    "* 14-4 Linear Modelling to predict Delivery Price        \n",
    "    * 14-4-a Dividing the Delivery Price data into train and test\n",
    "    * 14-4-b Finding the correlation against all variables\n",
    "    * 14-4-c Further analysis on Price-Train data  & Model Evaluation\n",
    "    * 14-4-d Predicting Delivery Price\n",
    "\n",
    "### 15 - Saving to csv file\n",
    "\n",
    "### 16 - Conclusion \n",
    "### 17- References\n",
    "\n",
    "---------------"
   ]
  },
  {
   "cell_type": "markdown",
   "metadata": {},
   "source": [
    "## 1-Libraries"
   ]
  },
  {
   "cell_type": "code",
   "execution_count": 177,
   "metadata": {
    "collapsed": true
   },
   "outputs": [],
   "source": [
    "# Importing libraries for assessment 2\n",
    "import pandas as pd\n",
    "import numpy as np\n",
    "import re\n",
    "import os\n",
    "import matplotlib.pyplot as plt\n",
    "%matplotlib inline\n",
    "\n",
    "import seaborn as sns\n",
    "import sys\n",
    "import warnings\n",
    "warnings.filterwarnings(\"ignore\")"
   ]
  },
  {
   "cell_type": "code",
   "execution_count": 178,
   "metadata": {},
   "outputs": [
    {
     "name": "stdout",
     "output_type": "stream",
     "text": [
      "sys.version_info(major=3, minor=6, micro=6, releaselevel='final', serial=0)\n"
     ]
    }
   ],
   "source": [
    "#Printing system version\n",
    "\n",
    "print (sys.version_info)"
   ]
  },
  {
   "cell_type": "markdown",
   "metadata": {},
   "source": [
    "## 2- Read the csv file "
   ]
  },
  {
   "cell_type": "code",
   "execution_count": 179,
   "metadata": {
    "collapsed": true
   },
   "outputs": [],
   "source": [
    "#reading the file and storing it in a dataframe\n",
    "file_df=pd.read_csv(\"29389690.csv\")"
   ]
  },
  {
   "cell_type": "code",
   "execution_count": 180,
   "metadata": {},
   "outputs": [
    {
     "data": {
      "text/plain": [
       "(37057, 16)"
      ]
     },
     "execution_count": 180,
     "metadata": {},
     "output_type": "execute_result"
    }
   ],
   "source": [
    "#Printing total rows and column\n",
    "\n",
    "file_df.shape"
   ]
  },
  {
   "cell_type": "markdown",
   "metadata": {},
   "source": [
    "## 3- Exploring Dataframe\n",
    "\n",
    "### 3-1 Printing information of DataFrame"
   ]
  },
  {
   "cell_type": "code",
   "execution_count": 181,
   "metadata": {},
   "outputs": [
    {
     "name": "stdout",
     "output_type": "stream",
     "text": [
      "<class 'pandas.core.frame.DataFrame'>\n",
      "RangeIndex: 37057 entries, 0 to 37056\n",
      "Data columns (total 16 columns):\n",
      "Id                       37034 non-null object\n",
      "Drone Type               37047 non-null float64\n",
      "Post Type                37037 non-null float64\n",
      "Package Weight           37057 non-null float64\n",
      "Origin Region            37047 non-null float64\n",
      "Destination Region       37047 non-null float64\n",
      "Origin Latitude          37057 non-null float64\n",
      "Origin Longitude         37057 non-null float64\n",
      "Destination Latitude     37057 non-null float64\n",
      "Destination Longitude    37057 non-null float64\n",
      "Journey Distance         37057 non-null float64\n",
      "Departure Date           37057 non-null object\n",
      "Departure Time           37057 non-null object\n",
      "Travel Time              37017 non-null float64\n",
      "Delivery Time            37057 non-null object\n",
      "Delivery Fare            37027 non-null float64\n",
      "dtypes: float64(12), object(4)\n",
      "memory usage: 4.5+ MB\n"
     ]
    }
   ],
   "source": [
    "file_df.info()"
   ]
  },
  {
   "cell_type": "markdown",
   "metadata": {},
   "source": [
    "### 3-2 Describing the DataFrame"
   ]
  },
  {
   "cell_type": "code",
   "execution_count": 182,
   "metadata": {},
   "outputs": [
    {
     "data": {
      "text/html": [
       "<div>\n",
       "<style>\n",
       "    .dataframe thead tr:only-child th {\n",
       "        text-align: right;\n",
       "    }\n",
       "\n",
       "    .dataframe thead th {\n",
       "        text-align: left;\n",
       "    }\n",
       "\n",
       "    .dataframe tbody tr th {\n",
       "        vertical-align: top;\n",
       "    }\n",
       "</style>\n",
       "<table border=\"1\" class=\"dataframe\">\n",
       "  <thead>\n",
       "    <tr style=\"text-align: right;\">\n",
       "      <th></th>\n",
       "      <th>Drone Type</th>\n",
       "      <th>Post Type</th>\n",
       "      <th>Package Weight</th>\n",
       "      <th>Origin Region</th>\n",
       "      <th>Destination Region</th>\n",
       "      <th>Origin Latitude</th>\n",
       "      <th>Origin Longitude</th>\n",
       "      <th>Destination Latitude</th>\n",
       "      <th>Destination Longitude</th>\n",
       "      <th>Journey Distance</th>\n",
       "      <th>Travel Time</th>\n",
       "      <th>Delivery Fare</th>\n",
       "    </tr>\n",
       "  </thead>\n",
       "  <tbody>\n",
       "    <tr>\n",
       "      <th>count</th>\n",
       "      <td>37047.000000</td>\n",
       "      <td>37037.000000</td>\n",
       "      <td>37057.000000</td>\n",
       "      <td>37047.000000</td>\n",
       "      <td>37047.000000</td>\n",
       "      <td>37057.000000</td>\n",
       "      <td>37057.000000</td>\n",
       "      <td>37057.000000</td>\n",
       "      <td>37057.000000</td>\n",
       "      <td>37057.000000</td>\n",
       "      <td>37017.000000</td>\n",
       "      <td>37027.000000</td>\n",
       "    </tr>\n",
       "    <tr>\n",
       "      <th>mean</th>\n",
       "      <td>1.701811</td>\n",
       "      <td>0.295650</td>\n",
       "      <td>27.772921</td>\n",
       "      <td>24.516101</td>\n",
       "      <td>24.381893</td>\n",
       "      <td>-37.730250</td>\n",
       "      <td>145.477021</td>\n",
       "      <td>-37.735883</td>\n",
       "      <td>145.468772</td>\n",
       "      <td>211.999684</td>\n",
       "      <td>206.569682</td>\n",
       "      <td>158.117897</td>\n",
       "    </tr>\n",
       "    <tr>\n",
       "      <th>std</th>\n",
       "      <td>0.782938</td>\n",
       "      <td>0.456341</td>\n",
       "      <td>13.263648</td>\n",
       "      <td>13.861377</td>\n",
       "      <td>13.889921</td>\n",
       "      <td>1.915717</td>\n",
       "      <td>6.977234</td>\n",
       "      <td>1.911067</td>\n",
       "      <td>6.970036</td>\n",
       "      <td>110.955078</td>\n",
       "      <td>105.750568</td>\n",
       "      <td>65.819166</td>\n",
       "    </tr>\n",
       "    <tr>\n",
       "      <th>min</th>\n",
       "      <td>1.000000</td>\n",
       "      <td>0.000000</td>\n",
       "      <td>5.002000</td>\n",
       "      <td>1.000000</td>\n",
       "      <td>1.000000</td>\n",
       "      <td>-39.006972</td>\n",
       "      <td>-148.429597</td>\n",
       "      <td>-39.006972</td>\n",
       "      <td>-148.360807</td>\n",
       "      <td>0.171000</td>\n",
       "      <td>6.880000</td>\n",
       "      <td>71.030000</td>\n",
       "    </tr>\n",
       "    <tr>\n",
       "      <th>25%</th>\n",
       "      <td>1.000000</td>\n",
       "      <td>0.000000</td>\n",
       "      <td>16.350000</td>\n",
       "      <td>13.000000</td>\n",
       "      <td>12.000000</td>\n",
       "      <td>-38.442348</td>\n",
       "      <td>144.238194</td>\n",
       "      <td>-38.453467</td>\n",
       "      <td>144.248257</td>\n",
       "      <td>127.218000</td>\n",
       "      <td>125.830000</td>\n",
       "      <td>125.740000</td>\n",
       "    </tr>\n",
       "    <tr>\n",
       "      <th>50%</th>\n",
       "      <td>1.000000</td>\n",
       "      <td>0.000000</td>\n",
       "      <td>27.683000</td>\n",
       "      <td>25.000000</td>\n",
       "      <td>24.000000</td>\n",
       "      <td>-37.777972</td>\n",
       "      <td>145.689094</td>\n",
       "      <td>-37.791942</td>\n",
       "      <td>145.665539</td>\n",
       "      <td>200.491000</td>\n",
       "      <td>195.200000</td>\n",
       "      <td>151.080000</td>\n",
       "    </tr>\n",
       "    <tr>\n",
       "      <th>75%</th>\n",
       "      <td>2.000000</td>\n",
       "      <td>1.000000</td>\n",
       "      <td>39.038000</td>\n",
       "      <td>37.000000</td>\n",
       "      <td>36.000000</td>\n",
       "      <td>-37.116141</td>\n",
       "      <td>146.980050</td>\n",
       "      <td>-37.120764</td>\n",
       "      <td>146.974125</td>\n",
       "      <td>283.804000</td>\n",
       "      <td>274.600000</td>\n",
       "      <td>179.170000</td>\n",
       "    </tr>\n",
       "    <tr>\n",
       "      <th>max</th>\n",
       "      <td>3.000000</td>\n",
       "      <td>1.000000</td>\n",
       "      <td>59.984000</td>\n",
       "      <td>48.000000</td>\n",
       "      <td>48.000000</td>\n",
       "      <td>38.937244</td>\n",
       "      <td>148.450513</td>\n",
       "      <td>38.826764</td>\n",
       "      <td>148.450513</td>\n",
       "      <td>556.831000</td>\n",
       "      <td>563.330000</td>\n",
       "      <td>1407.460000</td>\n",
       "    </tr>\n",
       "  </tbody>\n",
       "</table>\n",
       "</div>"
      ],
      "text/plain": [
       "         Drone Type     Post Type  Package Weight  Origin Region  \\\n",
       "count  37047.000000  37037.000000    37057.000000   37047.000000   \n",
       "mean       1.701811      0.295650       27.772921      24.516101   \n",
       "std        0.782938      0.456341       13.263648      13.861377   \n",
       "min        1.000000      0.000000        5.002000       1.000000   \n",
       "25%        1.000000      0.000000       16.350000      13.000000   \n",
       "50%        1.000000      0.000000       27.683000      25.000000   \n",
       "75%        2.000000      1.000000       39.038000      37.000000   \n",
       "max        3.000000      1.000000       59.984000      48.000000   \n",
       "\n",
       "       Destination Region  Origin Latitude  Origin Longitude  \\\n",
       "count        37047.000000     37057.000000      37057.000000   \n",
       "mean            24.381893       -37.730250        145.477021   \n",
       "std             13.889921         1.915717          6.977234   \n",
       "min              1.000000       -39.006972       -148.429597   \n",
       "25%             12.000000       -38.442348        144.238194   \n",
       "50%             24.000000       -37.777972        145.689094   \n",
       "75%             36.000000       -37.116141        146.980050   \n",
       "max             48.000000        38.937244        148.450513   \n",
       "\n",
       "       Destination Latitude  Destination Longitude  Journey Distance  \\\n",
       "count          37057.000000           37057.000000      37057.000000   \n",
       "mean             -37.735883             145.468772        211.999684   \n",
       "std                1.911067               6.970036        110.955078   \n",
       "min              -39.006972            -148.360807          0.171000   \n",
       "25%              -38.453467             144.248257        127.218000   \n",
       "50%              -37.791942             145.665539        200.491000   \n",
       "75%              -37.120764             146.974125        283.804000   \n",
       "max               38.826764             148.450513        556.831000   \n",
       "\n",
       "        Travel Time  Delivery Fare  \n",
       "count  37017.000000   37027.000000  \n",
       "mean     206.569682     158.117897  \n",
       "std      105.750568      65.819166  \n",
       "min        6.880000      71.030000  \n",
       "25%      125.830000     125.740000  \n",
       "50%      195.200000     151.080000  \n",
       "75%      274.600000     179.170000  \n",
       "max      563.330000    1407.460000  "
      ]
     },
     "execution_count": 182,
     "metadata": {},
     "output_type": "execute_result"
    }
   ],
   "source": [
    "# describing continuous type\n",
    "file_df.describe()"
   ]
  },
  {
   "cell_type": "code",
   "execution_count": 183,
   "metadata": {},
   "outputs": [
    {
     "data": {
      "text/html": [
       "<div>\n",
       "<style>\n",
       "    .dataframe thead tr:only-child th {\n",
       "        text-align: right;\n",
       "    }\n",
       "\n",
       "    .dataframe thead th {\n",
       "        text-align: left;\n",
       "    }\n",
       "\n",
       "    .dataframe tbody tr th {\n",
       "        vertical-align: top;\n",
       "    }\n",
       "</style>\n",
       "<table border=\"1\" class=\"dataframe\">\n",
       "  <thead>\n",
       "    <tr style=\"text-align: right;\">\n",
       "      <th></th>\n",
       "      <th>Id</th>\n",
       "      <th>Departure Date</th>\n",
       "      <th>Departure Time</th>\n",
       "      <th>Delivery Time</th>\n",
       "    </tr>\n",
       "  </thead>\n",
       "  <tbody>\n",
       "    <tr>\n",
       "      <th>count</th>\n",
       "      <td>37034</td>\n",
       "      <td>37057</td>\n",
       "      <td>37057</td>\n",
       "      <td>37057</td>\n",
       "    </tr>\n",
       "    <tr>\n",
       "      <th>unique</th>\n",
       "      <td>36997</td>\n",
       "      <td>280</td>\n",
       "      <td>30085</td>\n",
       "      <td>30189</td>\n",
       "    </tr>\n",
       "    <tr>\n",
       "      <th>top</th>\n",
       "      <td>ID1331605334</td>\n",
       "      <td>18/02/2018</td>\n",
       "      <td>3:31:24</td>\n",
       "      <td>19:45:01</td>\n",
       "    </tr>\n",
       "    <tr>\n",
       "      <th>freq</th>\n",
       "      <td>2</td>\n",
       "      <td>224</td>\n",
       "      <td>5</td>\n",
       "      <td>5</td>\n",
       "    </tr>\n",
       "  </tbody>\n",
       "</table>\n",
       "</div>"
      ],
      "text/plain": [
       "                  Id Departure Date Departure Time Delivery Time\n",
       "count          37034          37057          37057         37057\n",
       "unique         36997            280          30085         30189\n",
       "top     ID1331605334     18/02/2018        3:31:24      19:45:01\n",
       "freq               2            224              5             5"
      ]
     },
     "execution_count": 183,
     "metadata": {},
     "output_type": "execute_result"
    }
   ],
   "source": [
    "# Describing categorical type\n",
    "\n",
    "file_df.describe(include=['O'])"
   ]
  },
  {
   "cell_type": "markdown",
   "metadata": {},
   "source": [
    "### 3-3 Displaying the top 5 data"
   ]
  },
  {
   "cell_type": "code",
   "execution_count": 184,
   "metadata": {},
   "outputs": [
    {
     "data": {
      "text/html": [
       "<div>\n",
       "<style>\n",
       "    .dataframe thead tr:only-child th {\n",
       "        text-align: right;\n",
       "    }\n",
       "\n",
       "    .dataframe thead th {\n",
       "        text-align: left;\n",
       "    }\n",
       "\n",
       "    .dataframe tbody tr th {\n",
       "        vertical-align: top;\n",
       "    }\n",
       "</style>\n",
       "<table border=\"1\" class=\"dataframe\">\n",
       "  <thead>\n",
       "    <tr style=\"text-align: right;\">\n",
       "      <th></th>\n",
       "      <th>Id</th>\n",
       "      <th>Drone Type</th>\n",
       "      <th>Post Type</th>\n",
       "      <th>Package Weight</th>\n",
       "      <th>Origin Region</th>\n",
       "      <th>Destination Region</th>\n",
       "      <th>Origin Latitude</th>\n",
       "      <th>Origin Longitude</th>\n",
       "      <th>Destination Latitude</th>\n",
       "      <th>Destination Longitude</th>\n",
       "      <th>Journey Distance</th>\n",
       "      <th>Departure Date</th>\n",
       "      <th>Departure Time</th>\n",
       "      <th>Travel Time</th>\n",
       "      <th>Delivery Time</th>\n",
       "      <th>Delivery Fare</th>\n",
       "    </tr>\n",
       "  </thead>\n",
       "  <tbody>\n",
       "    <tr>\n",
       "      <th>0</th>\n",
       "      <td>ID1155220853</td>\n",
       "      <td>3.0</td>\n",
       "      <td>0.0</td>\n",
       "      <td>29.246</td>\n",
       "      <td>9.0</td>\n",
       "      <td>8.0</td>\n",
       "      <td>-37.543231</td>\n",
       "      <td>146.694631</td>\n",
       "      <td>-38.688709</td>\n",
       "      <td>147.836706</td>\n",
       "      <td>162.058</td>\n",
       "      <td>7/07/2018</td>\n",
       "      <td>3:32:59</td>\n",
       "      <td>141.78</td>\n",
       "      <td>5:54:45</td>\n",
       "      <td>201.76</td>\n",
       "    </tr>\n",
       "    <tr>\n",
       "      <th>1</th>\n",
       "      <td>ID1934229843</td>\n",
       "      <td>3.0</td>\n",
       "      <td>0.0</td>\n",
       "      <td>15.151</td>\n",
       "      <td>23.0</td>\n",
       "      <td>13.0</td>\n",
       "      <td>-38.719744</td>\n",
       "      <td>143.924901</td>\n",
       "      <td>-36.816430</td>\n",
       "      <td>147.486725</td>\n",
       "      <td>378.269</td>\n",
       "      <td>25/02/2018</td>\n",
       "      <td>17:46:42</td>\n",
       "      <td>321.96</td>\n",
       "      <td>23:08:39</td>\n",
       "      <td>202.88</td>\n",
       "    </tr>\n",
       "    <tr>\n",
       "      <th>2</th>\n",
       "      <td>ID1516274046</td>\n",
       "      <td>3.0</td>\n",
       "      <td>0.0</td>\n",
       "      <td>24.750</td>\n",
       "      <td>44.0</td>\n",
       "      <td>45.0</td>\n",
       "      <td>-38.181825</td>\n",
       "      <td>144.361734</td>\n",
       "      <td>-38.983453</td>\n",
       "      <td>144.674366</td>\n",
       "      <td>93.289</td>\n",
       "      <td>15/06/2018</td>\n",
       "      <td>13:34:05</td>\n",
       "      <td>84.48</td>\n",
       "      <td>14:58:33</td>\n",
       "      <td>183.65</td>\n",
       "    </tr>\n",
       "    <tr>\n",
       "      <th>3</th>\n",
       "      <td>ID1556088517</td>\n",
       "      <td>3.0</td>\n",
       "      <td>0.0</td>\n",
       "      <td>30.177</td>\n",
       "      <td>32.0</td>\n",
       "      <td>43.0</td>\n",
       "      <td>-36.533097</td>\n",
       "      <td>144.367291</td>\n",
       "      <td>-37.965204</td>\n",
       "      <td>147.219601</td>\n",
       "      <td>298.795</td>\n",
       "      <td>23/03/2018</td>\n",
       "      <td>13:43:56</td>\n",
       "      <td>255.73</td>\n",
       "      <td>17:59:39</td>\n",
       "      <td>193.09</td>\n",
       "    </tr>\n",
       "    <tr>\n",
       "      <th>4</th>\n",
       "      <td>ID1767368003</td>\n",
       "      <td>1.0</td>\n",
       "      <td>0.0</td>\n",
       "      <td>39.495</td>\n",
       "      <td>40.0</td>\n",
       "      <td>11.0</td>\n",
       "      <td>-37.952008</td>\n",
       "      <td>148.426079</td>\n",
       "      <td>-37.629604</td>\n",
       "      <td>144.048613</td>\n",
       "      <td>386.712</td>\n",
       "      <td>21/07/2018</td>\n",
       "      <td>19:59:06</td>\n",
       "      <td>393.21</td>\n",
       "      <td>2:32:18</td>\n",
       "      <td>132.26</td>\n",
       "    </tr>\n",
       "  </tbody>\n",
       "</table>\n",
       "</div>"
      ],
      "text/plain": [
       "             Id  Drone Type  Post Type  Package Weight  Origin Region  \\\n",
       "0  ID1155220853         3.0        0.0          29.246            9.0   \n",
       "1  ID1934229843         3.0        0.0          15.151           23.0   \n",
       "2  ID1516274046         3.0        0.0          24.750           44.0   \n",
       "3  ID1556088517         3.0        0.0          30.177           32.0   \n",
       "4  ID1767368003         1.0        0.0          39.495           40.0   \n",
       "\n",
       "   Destination Region  Origin Latitude  Origin Longitude  \\\n",
       "0                 8.0       -37.543231        146.694631   \n",
       "1                13.0       -38.719744        143.924901   \n",
       "2                45.0       -38.181825        144.361734   \n",
       "3                43.0       -36.533097        144.367291   \n",
       "4                11.0       -37.952008        148.426079   \n",
       "\n",
       "   Destination Latitude  Destination Longitude  Journey Distance  \\\n",
       "0            -38.688709             147.836706           162.058   \n",
       "1            -36.816430             147.486725           378.269   \n",
       "2            -38.983453             144.674366            93.289   \n",
       "3            -37.965204             147.219601           298.795   \n",
       "4            -37.629604             144.048613           386.712   \n",
       "\n",
       "  Departure Date Departure Time  Travel Time Delivery Time  Delivery Fare  \n",
       "0      7/07/2018        3:32:59       141.78       5:54:45         201.76  \n",
       "1     25/02/2018       17:46:42       321.96      23:08:39         202.88  \n",
       "2     15/06/2018       13:34:05        84.48      14:58:33         183.65  \n",
       "3     23/03/2018       13:43:56       255.73      17:59:39         193.09  \n",
       "4     21/07/2018       19:59:06       393.21       2:32:18         132.26  "
      ]
     },
     "execution_count": 184,
     "metadata": {},
     "output_type": "execute_result"
    }
   ],
   "source": [
    "file_df.head()"
   ]
  },
  {
   "cell_type": "markdown",
   "metadata": {},
   "source": [
    "### 3.4 - Displaying null values for each feature"
   ]
  },
  {
   "cell_type": "code",
   "execution_count": 185,
   "metadata": {},
   "outputs": [
    {
     "data": {
      "text/plain": [
       "Id                       23\n",
       "Drone Type               10\n",
       "Post Type                20\n",
       "Package Weight            0\n",
       "Origin Region            10\n",
       "Destination Region       10\n",
       "Origin Latitude           0\n",
       "Origin Longitude          0\n",
       "Destination Latitude      0\n",
       "Destination Longitude     0\n",
       "Journey Distance          0\n",
       "Departure Date            0\n",
       "Departure Time            0\n",
       "Travel Time              40\n",
       "Delivery Time             0\n",
       "Delivery Fare            30\n",
       "dtype: int64"
      ]
     },
     "execution_count": 185,
     "metadata": {},
     "output_type": "execute_result"
    }
   ],
   "source": [
    "\n",
    "file_df.isnull().sum()"
   ]
  },
  {
   "cell_type": "markdown",
   "metadata": {},
   "source": [
    "--------------------------------------------------------------\n",
    "# Start of Data cleaning\n",
    "------------------------------------------------------"
   ]
  },
  {
   "cell_type": "markdown",
   "metadata": {},
   "source": [
    "Assumption: Based on EDA, Departure Time and package weight is assumed to be valid\n",
    "\n",
    "# 4 -Dropping duplicates and ID=null\n",
    "\n",
    "From below analysis, there are total 60 rows where duplicate rows and ID=null are present. \n",
    "This information can be seen in dataframe=new_df\n",
    "Since ID is a unique identifer, we can't impute them and these conditions are noise in the dataframe.\n",
    "\n",
    "Removing 60 values, the new filtered count is 36997"
   ]
  },
  {
   "cell_type": "code",
   "execution_count": 186,
   "metadata": {
    "collapsed": true
   },
   "outputs": [],
   "source": [
    "# Making a copy of main dataframe\n",
    "test_df=file_df.copy()"
   ]
  },
  {
   "cell_type": "code",
   "execution_count": 187,
   "metadata": {},
   "outputs": [
    {
     "data": {
      "text/plain": [
       "(36997, 16)"
      ]
     },
     "execution_count": 187,
     "metadata": {},
     "output_type": "execute_result"
    }
   ],
   "source": [
    "# Dropping duplicates\n",
    "test_df=test_df.drop_duplicates(keep='first')\n",
    "\n",
    "# Dropping rows where 'Id' is null\n",
    "test_df = test_df.drop(test_df[test_df.Id.isnull()].index)\n",
    "\n",
    "# Priniting the new shape\n",
    "test_df.shape"
   ]
  },
  {
   "cell_type": "code",
   "execution_count": 188,
   "metadata": {},
   "outputs": [
    {
     "data": {
      "text/plain": [
       "(60, 16)"
      ]
     },
     "execution_count": 188,
     "metadata": {},
     "output_type": "execute_result"
    }
   ],
   "source": [
    "# This dataframe contains all the duplicates and ID null values\n",
    "new_df=file_df[~file_df.isin(test_df)]\n",
    "new_df=new_df.dropna(how='all')\n",
    "new_df=new_df.sort_values('Drone Type')\n",
    "new_df.shape\n"
   ]
  },
  {
   "cell_type": "markdown",
   "metadata": {},
   "source": [
    "### Since test_df Dataframe is cleaned with redudant data, this dataframe is used going forward\n",
    "---"
   ]
  },
  {
   "cell_type": "markdown",
   "metadata": {},
   "source": [
    "## 5 - Cleaning Departure Date\n",
    "\n",
    "From EDA, Date variable has 3 errors:\n",
    "* Date format error       \n",
    "* February month ending with 30    \n",
    "* Months wrongly ending with day 31\n",
    "\n",
    "### Approach:\n",
    "   #### 5-1 Creating a Regex function to clean the date errors"
   ]
  },
  {
   "cell_type": "code",
   "execution_count": 189,
   "metadata": {
    "collapsed": true
   },
   "outputs": [],
   "source": [
    "#Below function accepts the improper dates and returns cleaned ones\n",
    "\n",
    "def cleanup(date):\n",
    "    PATTERNS = [\n",
    "        r'(\\d{4})-(1[3-9]|2[0-9]|3[0-9])-(\\d{1,2})$',\n",
    "        r'(\\d{4})-(02)-(29|3[0-9])$',\n",
    "        r'(\\d{4})-(04|06|09|11)-(31)$']\n",
    "    \n",
    "    PATTERNS = [re.compile(p) for p in PATTERNS]\n",
    "    \n",
    "    for i, p in enumerate(PATTERNS):\n",
    "        res = p.match(date)\n",
    "        if res and i == 0: #swap month and day\n",
    "             return f'{res[1]}-{res[3]}-{res[2]}'\n",
    "            \n",
    "        if res and i == 1:  #Verifying for february and ending the month by 28\n",
    "             return f'{res[1]}-{res[2]}-28'\n",
    "        \n",
    "        if res and i == 2:  #Ending the month to 30 for April,June,September and November\n",
    "             return f'{res[1]}-{res[2]}-30'\n"
   ]
  },
  {
   "cell_type": "markdown",
   "metadata": {},
   "source": [
    "#### 5-2 function to clean the date errors & return clean data format"
   ]
  },
  {
   "cell_type": "code",
   "execution_count": 190,
   "metadata": {
    "collapsed": true
   },
   "outputs": [],
   "source": [
    "#Checking date \n",
    "\n",
    "import datetime\n",
    "\n",
    "filtered_file=[]  # to store clean dates\n",
    "\n",
    "# Below method validates whether date is valid or not, if invalid, exception is caught and passed to funciton(5-1) to clean\n",
    "\n",
    "def validate(date_text):\n",
    "    incorrect_date=[]\n",
    "    try:\n",
    "        datetime.datetime.strptime(date_text, '%Y-%m-%d')\n",
    "        filtered_file.append(date_text)\n",
    "    except ValueError:\n",
    "        incorrect_date.append(date_text)\n",
    "        filtered_file.append(cleanup(date_text))\n",
    "\n",
    "sample_file=test_df['Departure Date']\n",
    "for each in sample_file:validate(each)\n",
    "###################################################################################################################\n",
    "\n",
    "#Creating new dataframe for filtered 'Departure Date' and adding back new filtered departure date to the data frame.\n",
    "\n",
    "filt_df = pd.DataFrame({'Departure Date':filtered_file})\n",
    "test_df.update(filt_df)"
   ]
  },
  {
   "cell_type": "code",
   "execution_count": 191,
   "metadata": {},
   "outputs": [
    {
     "data": {
      "text/html": [
       "<div>\n",
       "<style>\n",
       "    .dataframe thead tr:only-child th {\n",
       "        text-align: right;\n",
       "    }\n",
       "\n",
       "    .dataframe thead th {\n",
       "        text-align: left;\n",
       "    }\n",
       "\n",
       "    .dataframe tbody tr th {\n",
       "        vertical-align: top;\n",
       "    }\n",
       "</style>\n",
       "<table border=\"1\" class=\"dataframe\">\n",
       "  <thead>\n",
       "    <tr style=\"text-align: right;\">\n",
       "      <th></th>\n",
       "      <th>Id</th>\n",
       "      <th>Drone Type</th>\n",
       "      <th>Post Type</th>\n",
       "      <th>Package Weight</th>\n",
       "      <th>Origin Region</th>\n",
       "      <th>Destination Region</th>\n",
       "      <th>Origin Latitude</th>\n",
       "      <th>Origin Longitude</th>\n",
       "      <th>Destination Latitude</th>\n",
       "      <th>Destination Longitude</th>\n",
       "      <th>Journey Distance</th>\n",
       "      <th>Departure Date</th>\n",
       "      <th>Departure Time</th>\n",
       "      <th>Travel Time</th>\n",
       "      <th>Delivery Time</th>\n",
       "      <th>Delivery Fare</th>\n",
       "    </tr>\n",
       "  </thead>\n",
       "  <tbody>\n",
       "    <tr>\n",
       "      <th>776</th>\n",
       "      <td>ID1657544928</td>\n",
       "      <td>2.0</td>\n",
       "      <td>0.0</td>\n",
       "      <td>29.716</td>\n",
       "      <td>34.0</td>\n",
       "      <td>9.0</td>\n",
       "      <td>-38.486662</td>\n",
       "      <td>146.635211</td>\n",
       "      <td>-37.392972</td>\n",
       "      <td>146.801878</td>\n",
       "      <td>122.622</td>\n",
       "      <td>13/04/2018</td>\n",
       "      <td>20:01:14</td>\n",
       "      <td>119.81</td>\n",
       "      <td>18:01:26</td>\n",
       "      <td>142.77</td>\n",
       "    </tr>\n",
       "  </tbody>\n",
       "</table>\n",
       "</div>"
      ],
      "text/plain": [
       "               Id  Drone Type  Post Type  Package Weight  Origin Region  \\\n",
       "776  ID1657544928         2.0        0.0          29.716           34.0   \n",
       "\n",
       "     Destination Region  Origin Latitude  Origin Longitude  \\\n",
       "776                 9.0       -38.486662        146.635211   \n",
       "\n",
       "     Destination Latitude  Destination Longitude  Journey Distance  \\\n",
       "776            -37.392972             146.801878           122.622   \n",
       "\n",
       "    Departure Date Departure Time  Travel Time Delivery Time  Delivery Fare  \n",
       "776     13/04/2018       20:01:14       119.81      18:01:26         142.77  "
      ]
     },
     "execution_count": 191,
     "metadata": {},
     "output_type": "execute_result"
    }
   ],
   "source": [
    "test_df[test_df['Id']=='ID1657544928']"
   ]
  },
  {
   "cell_type": "markdown",
   "metadata": {},
   "source": [
    "# 6 - Latitude and Longitude "
   ]
  },
  {
   "attachments": {},
   "cell_type": "markdown",
   "metadata": {},
   "source": [
    "![](images/lat.PNG)\n",
    "\n",
    "\n",
    "Latitude and Longitude of both Regions(Origin and Destination) are invalid for these data\n",
    "\n",
    "### Approach:\n",
    "\n",
    "Negating the values, post this cordinates are fixed"
   ]
  },
  {
   "cell_type": "code",
   "execution_count": 192,
   "metadata": {
    "collapsed": true
   },
   "outputs": [],
   "source": [
    "# Both regions' invalid data is subtracted and data is fixed\n",
    "\n",
    "test_df['Origin Latitude'] = np.where(test_df['Origin Latitude']>0, -1*test_df['Origin Latitude'],test_df['Origin Latitude'])\n",
    "test_df['Origin Longitude'] = np.where(test_df['Origin Longitude']<0, -1*test_df['Origin Longitude'],test_df['Origin Longitude'])\n",
    "\n",
    "\n",
    "\n",
    "test_df['Destination Latitude'] = np.where(test_df['Destination Latitude']>0, -1*test_df['Destination Latitude'],test_df['Destination Latitude'])\n",
    "test_df['Destination Longitude'] = np.where(test_df['Destination Longitude']<0, -1*test_df['Destination Longitude'],test_df['Destination Longitude'])\n"
   ]
  },
  {
   "cell_type": "markdown",
   "metadata": {},
   "source": [
    "--------------------------------------\n",
    "# 7- Filling post type"
   ]
  },
  {
   "attachments": {},
   "cell_type": "markdown",
   "metadata": {},
   "source": [
    "![](images/posttype.PNG)"
   ]
  },
  {
   "cell_type": "code",
   "execution_count": 193,
   "metadata": {},
   "outputs": [
    {
     "name": "stdout",
     "output_type": "stream",
     "text": [
      "Total null values present in Post Type= 20\n"
     ]
    }
   ],
   "source": [
    "#Before filling post type\n",
    "\n",
    "print(\"Total null values present in Post Type=\",len(test_df[test_df['Post Type'].isnull()]))\n"
   ]
  },
  {
   "cell_type": "markdown",
   "metadata": {},
   "source": [
    "#### Based on EDA, there is pattern between ID and Post Type\n",
    "\n",
    "#### for most cases, ID starting with 5, post type is 1.0  &  ID starting with 1, post type is 0.0\n",
    "\n",
    "#### Two errors are present.(post type null vales and wrong post type values)\n",
    "Based on above inference, both issues  are fixed in below step"
   ]
  },
  {
   "cell_type": "code",
   "execution_count": 194,
   "metadata": {
    "collapsed": true
   },
   "outputs": [],
   "source": [
    "# below function matches the Post type using regex match and return the correct post-type value\n",
    "\n",
    "def clean_postype(id_data):\n",
    "    if re.match(\"ID5\",id_data):\n",
    "        return 1.0\n",
    "    else:\n",
    "        return 0.0\n",
    "    \n",
    "test_df['Post Type']=test_df['Id'].apply(lambda x: clean_postype(x) if(str(x) != 'nan') else x)"
   ]
  },
  {
   "cell_type": "markdown",
   "metadata": {
    "collapsed": true
   },
   "source": [
    "-------------------------------------------\n",
    "# 8 - Verifying distance\n",
    "\n",
    "#### 8-1 Analysis - Calculate the distance using the formula "
   ]
  },
  {
   "cell_type": "code",
   "execution_count": 195,
   "metadata": {
    "collapsed": true
   },
   "outputs": [],
   "source": [
    "from math import sin, cos, sqrt, atan2, radians\n",
    "\n",
    "#Below function calculated the actual distance using the formula, considering the latitudes & longitudes of origin and destination\n",
    "\n",
    "def calculate_dist(o_lat,o_lon,d_lat,d_lon):\n",
    "    R = 6378.0\n",
    "    lat1 = radians(o_lat)\n",
    "    lon1 = radians(o_lon)\n",
    "    lat2 = radians(d_lat)\n",
    "    lon2 = radians(d_lon)\n",
    "\n",
    "    dlon = lon2 - lon1\n",
    "    dlat = lat2 - lat1\n",
    "\n",
    "    a = sin(dlat / 2)**2 + cos(lat1) * cos(lat2) * sin(dlon / 2)**2\n",
    "    c = 2 * atan2(sqrt(a), sqrt(1 - a))\n",
    "\n",
    "    distance = round(R * c,3)\n",
    "    return distance\n",
    "\n",
    "test_df['cal_dist']=test_df.apply(lambda x: calculate_dist(x['Origin Latitude'],x['Origin Longitude'],x['Destination Latitude'],x['Destination Longitude']),axis=1)\n"
   ]
  },
  {
   "cell_type": "code",
   "execution_count": 196,
   "metadata": {},
   "outputs": [
    {
     "data": {
      "text/html": [
       "<div>\n",
       "<style>\n",
       "    .dataframe thead tr:only-child th {\n",
       "        text-align: right;\n",
       "    }\n",
       "\n",
       "    .dataframe thead th {\n",
       "        text-align: left;\n",
       "    }\n",
       "\n",
       "    .dataframe tbody tr th {\n",
       "        vertical-align: top;\n",
       "    }\n",
       "</style>\n",
       "<table border=\"1\" class=\"dataframe\">\n",
       "  <thead>\n",
       "    <tr style=\"text-align: right;\">\n",
       "      <th></th>\n",
       "      <th>Id</th>\n",
       "      <th>Journey Distance</th>\n",
       "      <th>cal_dist</th>\n",
       "    </tr>\n",
       "  </thead>\n",
       "  <tbody>\n",
       "    <tr>\n",
       "      <th>4297</th>\n",
       "      <td>ID1914453733</td>\n",
       "      <td>350.871</td>\n",
       "      <td>345.071</td>\n",
       "    </tr>\n",
       "    <tr>\n",
       "      <th>4321</th>\n",
       "      <td>ID1344783067</td>\n",
       "      <td>167.685</td>\n",
       "      <td>170.585</td>\n",
       "    </tr>\n",
       "    <tr>\n",
       "      <th>5157</th>\n",
       "      <td>ID1652809906</td>\n",
       "      <td>282.821</td>\n",
       "      <td>284.921</td>\n",
       "    </tr>\n",
       "    <tr>\n",
       "      <th>5804</th>\n",
       "      <td>ID1437571294</td>\n",
       "      <td>387.640</td>\n",
       "      <td>383.940</td>\n",
       "    </tr>\n",
       "    <tr>\n",
       "      <th>8394</th>\n",
       "      <td>ID5907496437</td>\n",
       "      <td>47.548</td>\n",
       "      <td>38.348</td>\n",
       "    </tr>\n",
       "    <tr>\n",
       "      <th>12322</th>\n",
       "      <td>ID1724446678</td>\n",
       "      <td>124.620</td>\n",
       "      <td>118.920</td>\n",
       "    </tr>\n",
       "    <tr>\n",
       "      <th>14030</th>\n",
       "      <td>ID1949877322</td>\n",
       "      <td>244.918</td>\n",
       "      <td>241.618</td>\n",
       "    </tr>\n",
       "    <tr>\n",
       "      <th>14545</th>\n",
       "      <td>ID1990830084</td>\n",
       "      <td>110.668</td>\n",
       "      <td>102.768</td>\n",
       "    </tr>\n",
       "    <tr>\n",
       "      <th>16578</th>\n",
       "      <td>ID1829116263</td>\n",
       "      <td>238.266</td>\n",
       "      <td>234.266</td>\n",
       "    </tr>\n",
       "    <tr>\n",
       "      <th>18650</th>\n",
       "      <td>ID1716695648</td>\n",
       "      <td>380.373</td>\n",
       "      <td>376.873</td>\n",
       "    </tr>\n",
       "    <tr>\n",
       "      <th>22749</th>\n",
       "      <td>ID1181180319</td>\n",
       "      <td>154.411</td>\n",
       "      <td>146.011</td>\n",
       "    </tr>\n",
       "    <tr>\n",
       "      <th>22757</th>\n",
       "      <td>ID1358497300</td>\n",
       "      <td>161.555</td>\n",
       "      <td>154.355</td>\n",
       "    </tr>\n",
       "    <tr>\n",
       "      <th>24796</th>\n",
       "      <td>ID1602307026</td>\n",
       "      <td>212.745</td>\n",
       "      <td>202.845</td>\n",
       "    </tr>\n",
       "    <tr>\n",
       "      <th>30931</th>\n",
       "      <td>ID1635571364</td>\n",
       "      <td>458.923</td>\n",
       "      <td>456.423</td>\n",
       "    </tr>\n",
       "  </tbody>\n",
       "</table>\n",
       "</div>"
      ],
      "text/plain": [
       "                 Id  Journey Distance  cal_dist\n",
       "4297   ID1914453733           350.871   345.071\n",
       "4321   ID1344783067           167.685   170.585\n",
       "5157   ID1652809906           282.821   284.921\n",
       "5804   ID1437571294           387.640   383.940\n",
       "8394   ID5907496437            47.548    38.348\n",
       "12322  ID1724446678           124.620   118.920\n",
       "14030  ID1949877322           244.918   241.618\n",
       "14545  ID1990830084           110.668   102.768\n",
       "16578  ID1829116263           238.266   234.266\n",
       "18650  ID1716695648           380.373   376.873\n",
       "22749  ID1181180319           154.411   146.011\n",
       "22757  ID1358497300           161.555   154.355\n",
       "24796  ID1602307026           212.745   202.845\n",
       "30931  ID1635571364           458.923   456.423"
      ]
     },
     "execution_count": 196,
     "metadata": {},
     "output_type": "execute_result"
    }
   ],
   "source": [
    "#Verifying how many journey distances are not same compared with calculated distance\n",
    "filt=round(test_df['Journey Distance'],3) != test_df['cal_dist']\n",
    "\n",
    "test_df[filt][['Id','Journey Distance','cal_dist']]"
   ]
  },
  {
   "cell_type": "markdown",
   "metadata": {},
   "source": [
    "#### From above we can confirm that 14 Journey Distances are not the same.\n",
    "-------------\n",
    "### 8-2 Solution: Drop the Journey Distance Column and rename the calculated distance as the new Journey Distance"
   ]
  },
  {
   "cell_type": "code",
   "execution_count": 197,
   "metadata": {
    "collapsed": true
   },
   "outputs": [],
   "source": [
    "#Dropping 'Departure Date' and adding back new filtered departure date to the data frame.\n",
    "test_df.drop(['Journey Distance'], axis=1, inplace=True)\n",
    "\n",
    "#Renaming columns name from 'cal_dist' to 'Journey Distance'\n",
    "test_df.rename(columns={'cal_dist':'Journey Distance'}, inplace=True)\n"
   ]
  },
  {
   "cell_type": "markdown",
   "metadata": {
    "collapsed": true
   },
   "source": [
    "------------------"
   ]
  },
  {
   "cell_type": "markdown",
   "metadata": {},
   "source": [
    "# 9- Origin Region\n",
    "\n",
    "### 9-1 Analysis - Finding Outliers"
   ]
  },
  {
   "cell_type": "markdown",
   "metadata": {},
   "source": [
    "![](images/regions.PNG)\n",
    "\n",
    "\n",
    "Above analysis confirms the presence of outliers in the origin regions\n",
    "\n",
    "#### Approach:\n",
    "\n",
    "1) Find the outliers.                        \n",
    "2) Separate them into clean and unclean data (which contains outliers and null values).                       \n",
    "3) I am running KNN algorithm on the clean data set and predicting correct origin regions for the unclean dataset              \n",
    "\n",
    "\n",
    "##### <font color='red'>NOTE: Above method also holds good to determine destination region<font> "
   ]
  },
  {
   "cell_type": "code",
   "execution_count": 198,
   "metadata": {},
   "outputs": [
    {
     "data": {
      "text/plain": [
       "<matplotlib.axes._subplots.AxesSubplot at 0x2099728df60>"
      ]
     },
     "execution_count": 198,
     "metadata": {},
     "output_type": "execute_result"
    },
    {
     "data": {
      "image/png": "[encoded data removed]",
      "text/plain": [
       "<Figure size 1080x720 with 1 Axes>"
      ]
     },
     "metadata": {},
     "output_type": "display_data"
    }
   ],
   "source": [
    "#### Above analysis can be further confirmed by plotting boxplot and finding the outliers\n",
    "\n",
    "\n",
    "# Below graph confirms the outliers present in the Origin region wrt Origin latitude are many\n",
    "\n",
    "plt.rcParams['figure.figsize']=15,10\n",
    "xi=test_df[['Origin Latitude','Origin Longitude','Origin Region']]\n",
    "sns.boxplot(data=xi,x='Origin Region',y='Origin Latitude')"
   ]
  },
  {
   "cell_type": "markdown",
   "metadata": {},
   "source": [
    "### 9-2 Finding Outliers and separting them"
   ]
  },
  {
   "cell_type": "code",
   "execution_count": 199,
   "metadata": {
    "collapsed": true
   },
   "outputs": [],
   "source": [
    "\n",
    "\n",
    "Regions=list(range(1,49))\n",
    "\n",
    "\n",
    "df_OriginRegions=test_df[['Origin Latitude','Origin Longitude','Origin Region']]\n",
    "\n",
    "#### Below method identifies the outliers by verfying the IQR range and filters them into cleaned and outlier data\n",
    "\n",
    "def clean_outlier(data_df):\n",
    "    df_clean = pd.DataFrame() \n",
    "    df_outlier = pd.DataFrame()     \n",
    "    for each in Regions:\n",
    "        df_eachRegion=data_df[data_df.iloc[:,-1]==[each]]\n",
    "        Q1 = df_eachRegion.quantile(0.25)\n",
    "        Q3 = df_eachRegion.quantile(0.75)\n",
    "        IQR = Q3 - Q1\n",
    "        \n",
    "        clean=df_eachRegion[~((df_eachRegion < (Q1 - 1.5 * IQR)) |(df_eachRegion > (Q3 + 1.5 * IQR))).any(axis=1)]\n",
    "        df_clean=pd.concat([df_clean,clean])\n",
    "                               \n",
    "        outlier=df_eachRegion[((df_eachRegion < (Q1 - 1.5 * IQR)) |(df_eachRegion > (Q3 + 1.5 * IQR))).any(axis=1)]\n",
    "        df_outlier=pd.concat([df_outlier,outlier])\n",
    "\n",
    "    return(df_clean,df_outlier)\n",
    "\n",
    "\n",
    "##### Below variables contain the cleaned and outlier data\n",
    "cleaned_Origin_data,outlier_Origin_data=clean_outlier(df_OriginRegions)"
   ]
  },
  {
   "cell_type": "markdown",
   "metadata": {},
   "source": [
    "### 9-3 Applying KNN model"
   ]
  },
  {
   "cell_type": "code",
   "execution_count": 200,
   "metadata": {
    "collapsed": true
   },
   "outputs": [],
   "source": [
    "#### Dividing train and test data of Origin region\n",
    "\n",
    "# The test data contains 2 categories: Nulls and Outliers of Origin region\n",
    "\n",
    "#--------- Fidning all nulls of Origin---------------\n",
    "OR_allnull=test_df[test_df['Origin Region'].isnull()]\n",
    "\n",
    "#--------- selecting all the outliers of Origin Region from main dataframe -------------\n",
    "outlier_OR_df = test_df.index.isin(outlier_Origin_data.index)\n",
    "outlier_OR_df=test_df[outlier_OR_df]\n",
    "\n",
    "# Mapping of above both to form final Origin Region's testing data\n",
    "OR_test=pd.concat([OR_allnull,outlier_OR_df])\n",
    "\n",
    "# A Copy of cleaned data becomes training data\n",
    "OR_train=cleaned_Origin_data.copy()"
   ]
  },
  {
   "cell_type": "code",
   "execution_count": 201,
   "metadata": {},
   "outputs": [
    {
     "data": {
      "text/plain": [
       "{'n_neighbors': 5}"
      ]
     },
     "execution_count": 201,
     "metadata": {},
     "output_type": "execute_result"
    }
   ],
   "source": [
    "#### obtain k-value\n",
    "\n",
    "from sklearn import neighbors\n",
    "from sklearn.metrics import mean_squared_error \n",
    "\n",
    "from sklearn.model_selection import GridSearchCV\n",
    "params = {'n_neighbors':range(1,6)}\n",
    "\n",
    "knn = neighbors.KNeighborsRegressor()\n",
    "\n",
    "model = GridSearchCV(knn, params, cv=10)\n",
    "model.fit(OR_train[['Origin Latitude','Origin Longitude']],OR_train['Origin Region'])\n",
    "model.best_params_"
   ]
  },
  {
   "cell_type": "code",
   "execution_count": 202,
   "metadata": {},
   "outputs": [
    {
     "data": {
      "text/plain": [
       "KNeighborsClassifier(algorithm='auto', leaf_size=30, metric='minkowski',\n",
       "           metric_params=None, n_jobs=1, n_neighbors=5, p=2,\n",
       "           weights='uniform')"
      ]
     },
     "execution_count": 202,
     "metadata": {},
     "output_type": "execute_result"
    }
   ],
   "source": [
    "#### Fitting the model\n",
    "\n",
    "from sklearn.neighbors import KNeighborsClassifier\n",
    "\n",
    "neigh_model = KNeighborsClassifier(n_neighbors=5)\n",
    "neigh_model.fit(OR_train[['Origin Latitude','Origin Longitude']],OR_train['Origin Region'])"
   ]
  },
  {
   "cell_type": "code",
   "execution_count": 203,
   "metadata": {
    "collapsed": true
   },
   "outputs": [],
   "source": [
    "#### Predicition \n",
    "\n",
    "\n",
    "OR_test['Origin Region'] = neigh_model.predict(OR_test[['Origin Latitude','Origin Longitude']])\n"
   ]
  },
  {
   "cell_type": "code",
   "execution_count": 204,
   "metadata": {
    "collapsed": true
   },
   "outputs": [],
   "source": [
    "### Updating the main dataframe with the predicted values\n",
    "\n",
    "\n",
    "test_df['Origin Region'] = OR_test['Origin Region'].combine_first(test_df['Origin Region'])\n"
   ]
  },
  {
   "cell_type": "markdown",
   "metadata": {},
   "source": [
    "##### Above data now contains clean origin regions"
   ]
  },
  {
   "cell_type": "markdown",
   "metadata": {},
   "source": [
    "------------\n",
    "# 10 - Destination Region\n",
    "\n",
    "#### 10-1 Analysis - finding outliers"
   ]
  },
  {
   "cell_type": "code",
   "execution_count": 205,
   "metadata": {},
   "outputs": [
    {
     "data": {
      "text/plain": [
       "<matplotlib.axes._subplots.AxesSubplot at 0x2099a98f908>"
      ]
     },
     "execution_count": 205,
     "metadata": {},
     "output_type": "execute_result"
    },
    {
     "data": {
      "image/png": "[encoded data removed]",
      "text/plain": [
       "<Figure size 1080x720 with 1 Axes>"
      ]
     },
     "metadata": {},
     "output_type": "display_data"
    }
   ],
   "source": [
    "## Below graph confirms the outliers present in the Origin region wrt Origin latitude are many\n",
    "\n",
    "plt.rcParams['figure.figsize']=15,10\n",
    "xi=test_df[['Destination Latitude','Destination Longitude','Destination Region']]\n",
    "sns.boxplot(data=xi,x='Destination Region',y='Destination Latitude')"
   ]
  },
  {
   "cell_type": "markdown",
   "metadata": {},
   "source": [
    "### 10-2 Finding Outliers and separting them"
   ]
  },
  {
   "cell_type": "code",
   "execution_count": 206,
   "metadata": {
    "collapsed": true
   },
   "outputs": [],
   "source": [
    "\n",
    "df_DestRegions=test_df[['Destination Latitude','Destination Longitude','Destination Region']]\n",
    "\n",
    "cleaned_Dest_data,outlier_Dest_data=clean_outlier(df_DestRegions)"
   ]
  },
  {
   "cell_type": "markdown",
   "metadata": {},
   "source": [
    "### 10-3 Applying KNN model"
   ]
  },
  {
   "cell_type": "code",
   "execution_count": 207,
   "metadata": {
    "collapsed": true
   },
   "outputs": [],
   "source": [
    "#### Dividing train and test data of Origin region\n",
    "\n",
    "# The test data contains 2 categories: Nulls and Outliers of Destination region\n",
    "\n",
    "#--------- Finding all nulls of Destination region ---------------\n",
    "DR_allnull=test_df[test_df['Destination Region'].isnull()]\n",
    "\n",
    "#--------- selecting all the outliers of Origin Region from main dataframe -------------\n",
    "outlier_DR_df = test_df.index.isin(outlier_Dest_data.index)\n",
    "outlier_DR_df=test_df[outlier_DR_df]\n",
    "\n",
    "# Mapping of above both to form final Origin Region's testing data\n",
    "DR_test=pd.concat([DR_allnull,outlier_DR_df])\n",
    "\n",
    "# A Copy of cleaned data becomes training data\n",
    "DR_train=cleaned_Dest_data.copy()"
   ]
  },
  {
   "cell_type": "code",
   "execution_count": 208,
   "metadata": {},
   "outputs": [
    {
     "data": {
      "text/plain": [
       "KNeighborsClassifier(algorithm='auto', leaf_size=30, metric='minkowski',\n",
       "           metric_params=None, n_jobs=1, n_neighbors=5, p=2,\n",
       "           weights='uniform')"
      ]
     },
     "execution_count": 208,
     "metadata": {},
     "output_type": "execute_result"
    }
   ],
   "source": [
    "#### Fitting the model\n",
    "\n",
    "from sklearn.neighbors import KNeighborsClassifier\n",
    "\n",
    "neigh_model = KNeighborsClassifier(n_neighbors=5)\n",
    "neigh_model.fit(DR_train[['Destination Latitude','Destination Longitude']],DR_train['Destination Region'])"
   ]
  },
  {
   "cell_type": "code",
   "execution_count": 209,
   "metadata": {
    "collapsed": true
   },
   "outputs": [],
   "source": [
    "#### Predicition \n",
    "\n",
    "DR_test['Destination Region'] = neigh_model.predict(DR_test[['Destination Latitude','Destination Longitude']])"
   ]
  },
  {
   "cell_type": "code",
   "execution_count": 210,
   "metadata": {
    "collapsed": true
   },
   "outputs": [],
   "source": [
    "### Updating the main dataframe with the predicted values\n",
    "\n",
    "test_df['Destination Region'] = DR_test['Destination Region'].combine_first(test_df['Destination Region'])"
   ]
  },
  {
   "cell_type": "markdown",
   "metadata": {
    "collapsed": true
   },
   "source": [
    "--------------------"
   ]
  },
  {
   "cell_type": "markdown",
   "metadata": {},
   "source": [
    "# 11- Travel Time\n",
    "\n",
    "\n",
    "Below steps confirms there are 3 type of errors in Travel time:\n",
    "* 40 null values\n",
    "* 40 incorrect values (delivery time happened earlier to departure time)\n",
    "* 34 incorrect values (wrong time taken)"
   ]
  },
  {
   "cell_type": "markdown",
   "metadata": {},
   "source": [
    "### 11-1 finding null values"
   ]
  },
  {
   "cell_type": "code",
   "execution_count": 211,
   "metadata": {},
   "outputs": [
    {
     "data": {
      "text/html": [
       "<div>\n",
       "<style>\n",
       "    .dataframe thead tr:only-child th {\n",
       "        text-align: right;\n",
       "    }\n",
       "\n",
       "    .dataframe thead th {\n",
       "        text-align: left;\n",
       "    }\n",
       "\n",
       "    .dataframe tbody tr th {\n",
       "        vertical-align: top;\n",
       "    }\n",
       "</style>\n",
       "<table border=\"1\" class=\"dataframe\">\n",
       "  <thead>\n",
       "    <tr style=\"text-align: right;\">\n",
       "      <th></th>\n",
       "      <th>Id</th>\n",
       "      <th>Drone Type</th>\n",
       "      <th>Departure Time</th>\n",
       "      <th>Delivery Time</th>\n",
       "      <th>Journey Distance</th>\n",
       "      <th>Travel Time</th>\n",
       "    </tr>\n",
       "  </thead>\n",
       "  <tbody>\n",
       "    <tr>\n",
       "      <th>0</th>\n",
       "      <td>ID1155220853</td>\n",
       "      <td>3.0</td>\n",
       "      <td>3:32:59</td>\n",
       "      <td>5:54:45</td>\n",
       "      <td>162.058</td>\n",
       "      <td>141.78</td>\n",
       "    </tr>\n",
       "    <tr>\n",
       "      <th>1</th>\n",
       "      <td>ID1934229843</td>\n",
       "      <td>3.0</td>\n",
       "      <td>17:46:42</td>\n",
       "      <td>23:08:39</td>\n",
       "      <td>378.269</td>\n",
       "      <td>321.96</td>\n",
       "    </tr>\n",
       "    <tr>\n",
       "      <th>2</th>\n",
       "      <td>ID1516274046</td>\n",
       "      <td>3.0</td>\n",
       "      <td>13:34:05</td>\n",
       "      <td>14:58:33</td>\n",
       "      <td>93.289</td>\n",
       "      <td>84.48</td>\n",
       "    </tr>\n",
       "    <tr>\n",
       "      <th>3</th>\n",
       "      <td>ID1556088517</td>\n",
       "      <td>3.0</td>\n",
       "      <td>13:43:56</td>\n",
       "      <td>17:59:39</td>\n",
       "      <td>298.795</td>\n",
       "      <td>255.73</td>\n",
       "    </tr>\n",
       "    <tr>\n",
       "      <th>4</th>\n",
       "      <td>ID1767368003</td>\n",
       "      <td>1.0</td>\n",
       "      <td>19:59:06</td>\n",
       "      <td>2:32:18</td>\n",
       "      <td>386.712</td>\n",
       "      <td>393.21</td>\n",
       "    </tr>\n",
       "  </tbody>\n",
       "</table>\n",
       "</div>"
      ],
      "text/plain": [
       "             Id  Drone Type Departure Time Delivery Time  Journey Distance  \\\n",
       "0  ID1155220853         3.0        3:32:59       5:54:45           162.058   \n",
       "1  ID1934229843         3.0       17:46:42      23:08:39           378.269   \n",
       "2  ID1516274046         3.0       13:34:05      14:58:33            93.289   \n",
       "3  ID1556088517         3.0       13:43:56      17:59:39           298.795   \n",
       "4  ID1767368003         1.0       19:59:06       2:32:18           386.712   \n",
       "\n",
       "   Travel Time  \n",
       "0       141.78  \n",
       "1       321.96  \n",
       "2        84.48  \n",
       "3       255.73  \n",
       "4       393.21  "
      ]
     },
     "execution_count": 211,
     "metadata": {},
     "output_type": "execute_result"
    }
   ],
   "source": [
    "#Making a new dataframe subset of main one\n",
    "timedf=test_df[['Id','Drone Type','Departure Time','Delivery Time','Journey Distance','Travel Time']]\n",
    "timedf.head()"
   ]
  },
  {
   "cell_type": "code",
   "execution_count": 212,
   "metadata": {},
   "outputs": [
    {
     "name": "stdout",
     "output_type": "stream",
     "text": [
      "There are 40 null vales present in 'Travel Time column'\n"
     ]
    }
   ],
   "source": [
    "print(\"There are {} null vales present in 'Travel Time column'\".format(len(timedf[timedf['Travel Time'].isnull()])))"
   ]
  },
  {
   "cell_type": "markdown",
   "metadata": {},
   "source": [
    "### 11-2 Validate travel time= Delivery - Departure\n",
    "\n",
    "Approach:\n",
    "* find the difference of delivery & departure\n",
    "* divide the data into valid and invalid\n",
    "* dividing the valid data based on Drone type-1, 2 & 3"
   ]
  },
  {
   "cell_type": "code",
   "execution_count": 213,
   "metadata": {
    "collapsed": true
   },
   "outputs": [],
   "source": [
    "# Creating a new column difference of 'Delivery time' & Departure time. This is required to validate actual 'travel time'\n",
    "\n",
    "# Defining a method to perform subtraction\n",
    "def calculate_traveltime(data1,data2):\n",
    "    t1 = sum(i*j for i, j in zip(map(int, data1.split(':')), [60, 1, 1/60]))\n",
    "    t2 = sum(i*j for i, j in zip(map(int, data2.split(':')), [60, 1, 1/60]))\n",
    "    return round((t2-t1),2)\n",
    "    \n",
    "\n",
    "\n",
    "timedf['diff_Del&Dep']=timedf.apply(lambda x: calculate_traveltime(x['Departure Time'],x['Delivery Time']),axis=1)"
   ]
  },
  {
   "cell_type": "code",
   "execution_count": 214,
   "metadata": {
    "collapsed": true
   },
   "outputs": [],
   "source": [
    "# Divide the 'Travel Time' into two separate columns:\n",
    "            # 1 - valid data (where travel time is equal to diff_Del&Dep)\n",
    "            # 2 - invalid data (where travel time is null and travel time is not equal to diff_Del&Dep)\n",
    "\n",
    "# 1. Finding Valid data:\n",
    "\n",
    "# 1.a) Defining a method to find valid time data\n",
    "\n",
    "def find_valid(data1,data2):\n",
    "    #Adding a tolerance level of 0.01  & 0.02 \n",
    "    if (data1 == round(data2+0.01,2)) | (data1 == data2) | (data1 == round(data2+0.02,2)):\n",
    "        return data1\n",
    "\n",
    "    \n",
    "timedf['valid_traveltime']=timedf.apply(lambda x:find_valid(x['Travel Time'],x['diff_Del&Dep']),axis=1 )\n",
    "\n",
    "######################################################################################################\n",
    "### After above step total null values present in valid data = 5387. Which cannot be a valid scenario\n",
    "######################################################################################################\n",
    "\n",
    "#1.b There are few cases where delivery were made before departure time, which cannot be a valid data. \n",
    "    # Example: Departure_time= 5pm  & Delivery time = 4pm\n",
    "    # To find this, I am assumming a valid delivery should be less than 15 hrs\n",
    "\n",
    "timedf['time_diff']= pd.to_timedelta(timedf['Delivery Time'])-pd.to_timedelta(timedf['Departure Time'])\n",
    "timedf['time_diff'] = pd.to_timedelta(timedf['time_diff'].dt.seconds, unit='s')\n",
    "timedf['time'] = timedf['time_diff'] / np.timedelta64(1, 'h')\n",
    "\n",
    "# below step will find which time is less than 15hrs, this is a valid time\n",
    "timedf['valid_traveltime']=timedf.apply(lambda x:x['Travel Time'] if x['time']<15 else None,axis=1 )\n",
    "\n",
    "#################################################################################\n",
    "##########  Total null values after 1-a and 1-b step is 80 ######################\n",
    "#################################################################################\n",
    "\n",
    "\n",
    "\n",
    "# 2. Finding invalid data\n",
    "\n",
    "valid_traveltime=timedf[timedf['valid_traveltime'].notnull()]\n",
    "invalid_traveltime=timedf[timedf['valid_traveltime'].isnull()]"
   ]
  },
  {
   "cell_type": "code",
   "execution_count": 215,
   "metadata": {
    "collapsed": true
   },
   "outputs": [],
   "source": [
    "#Dropping all unwanted columns\n",
    "\n",
    "valid_traveltime.drop(['diff_Del&Dep','valid_traveltime','time_diff','time'], axis=1, inplace=True)\n",
    "invalid_traveltime.drop(['diff_Del&Dep','valid_traveltime','time_diff','time'], axis=1, inplace=True)\n",
    "\n",
    "\n",
    "#valid_traveltime.drop(['valid_traveltime','time_diff','time'], axis=1, inplace=True)\n",
    "#invalid_traveltime.drop(['valid_traveltime','time_diff','time'], axis=1, inplace=True)\n"
   ]
  },
  {
   "cell_type": "code",
   "execution_count": 216,
   "metadata": {
    "collapsed": true
   },
   "outputs": [],
   "source": [
    "# Forming 6 dataframe of different Drone type\n",
    "\n",
    "valid_traveltime_drone1=valid_traveltime[valid_traveltime['Drone Type']==1.0]\n",
    "invalid_traveltime_drone1=invalid_traveltime[invalid_traveltime['Drone Type']==1.0]\n",
    "\n",
    "\n",
    "valid_traveltime_drone2=valid_traveltime[valid_traveltime['Drone Type']==2.0]\n",
    "invalid_traveltime_drone2=invalid_traveltime[invalid_traveltime['Drone Type']==2.0]\n",
    "\n",
    "\n",
    "valid_traveltime_drone3=valid_traveltime[valid_traveltime['Drone Type']==3.0]\n",
    "invalid_traveltime_drone3=invalid_traveltime[invalid_traveltime['Drone Type']==3.0]\n"
   ]
  },
  {
   "cell_type": "markdown",
   "metadata": {},
   "source": [
    "##### At this step, data is cleaned with outliers, which is required for next steps\n",
    "----------------\n",
    "## 11-3 Approach to calculate valid travel-time"
   ]
  },
  {
   "attachments": {},
   "cell_type": "markdown",
   "metadata": {},
   "source": [
    "### Below method explains how travel time is calculated by solving simultaneous equations\n",
    "\n",
    "W.K.T               \n",
    "x ->speed of takeoff   \n",
    "y -> speed of landing   \n",
    "z -> speed of onroute    \n",
    "t -> time taken    \n",
    "d -> distance travelled   \n",
    "\n",
    "###### 5x+5y= $\\beta$  ------> Treat this as beta. Beta here conveys information on= Distance travelled during takeoff and landing\n",
    "\n",
    "\n",
    "Then main equation becomes, beta + on route distance = journey distance        \n",
    "on route distance = time taken (t-10) * speed (z)\n",
    "##### $\\beta$+(t-10)z=d -----------> (main eqn)\n",
    "\n",
    "---------------------------------------------\n",
    "##### Selecting random values for Drone type=1 (Refer below picture)\n",
    "\n",
    "![](images/time.PNG)\n",
    "\n",
    "let actual time t=393.21 and travelled distance d=386.712 then main eqn becomes:   \n",
    "##### * $\\beta$+(396.91-10)z=390.409    -----------> (eqn-1)\n",
    "\n",
    "let t=176.72 and d=390.409 then main eqn becomes:   \n",
    "##### * $\\beta$+(176.72-10)z=170.223    -----------> (eqn-2)\n",
    "\n",
    "\n",
    "--------------------------------------------\n",
    "#### Solving eq-1 and eq-2: we get\n",
    "z(speed of drone type 1) = 60 km/hr         \n",
    "beta = 210.36\n",
    "\n",
    "### Using above method, correct 'Travel Time' is calculated\n",
    "\n",
    "\n",
    "--------------------------------------------------------\n"
   ]
  },
  {
   "cell_type": "markdown",
   "metadata": {},
   "source": [
    "### 11-4 Calculating speed "
   ]
  },
  {
   "cell_type": "code",
   "execution_count": 217,
   "metadata": {},
   "outputs": [
    {
     "name": "stdout",
     "output_type": "stream",
     "text": [
      "Speed of Drone type-1=60.0, beta1=210.36\n",
      "Speed of Drone type-2=65.0, beta2=220.18\n",
      "Speed of Drone type-3=72.01, beta3=233.44\n"
     ]
    }
   ],
   "source": [
    "import numpy as np\n",
    "\n",
    "# Below is the linear equation which calculates speed and beta\n",
    "\n",
    "def linear_eqn(time1,time2,dist1,dist2):\n",
    "    x = np.array([[1/60, (time1-10)/60],[1/60,(time2-10)/60]])\n",
    "    y = np.array([dist1, dist2])\n",
    "    beta,z=(np.linalg.solve(x,y))\n",
    "    return round(beta,2),round(z,2)\n",
    "\n",
    "beta1,speed1=linear_eqn(396.91,176.72,390.409,170.223)\n",
    "beta2,speed2=linear_eqn(144.01,122.85,148.845,125.922)\n",
    "beta3,speed3=linear_eqn(186.23,255.73,215.387,298.795)\n",
    "\n",
    "print(\"Speed of Drone type-1={}, beta1={}\".format(speed1,beta1))\n",
    "print(\"Speed of Drone type-2={}, beta2={}\".format(speed2,beta2))\n",
    "print(\"Speed of Drone type-3={}, beta3={}\".format(speed3,beta3))"
   ]
  },
  {
   "cell_type": "markdown",
   "metadata": {},
   "source": [
    "### 11-5  Calculating time"
   ]
  },
  {
   "cell_type": "code",
   "execution_count": 218,
   "metadata": {
    "collapsed": true
   },
   "outputs": [],
   "source": [
    "# Below function is required to calculate the correct travel time\n",
    "\n",
    "def calculate_time(dist,beta,speed):\n",
    "    time_taken=(((dist*60)-(beta))/speed)+10\n",
    "    return round(time_taken,2)\n"
   ]
  },
  {
   "cell_type": "code",
   "execution_count": 219,
   "metadata": {
    "collapsed": true
   },
   "outputs": [],
   "source": [
    "#Calculating new Travel time\n",
    "\n",
    "# Approach \n",
    "  # calculate all 3 speeds for each droen type and validate the travel time\n",
    "\n",
    "valid_drone1=pd.concat([valid_traveltime_drone1,invalid_traveltime_drone1])\n",
    "valid_drone1['timetaken_drone1']=valid_drone1.apply(lambda x: calculate_time(x['Journey Distance'],beta1,speed1),axis=1)\n",
    "valid_drone1['timetaken_drone2']=valid_drone1.apply(lambda x: calculate_time(x['Journey Distance'],beta2,speed2),axis=1)\n",
    "valid_drone1['timetaken_drone3']=valid_drone1.apply(lambda x: calculate_time(x['Journey Distance'],beta3,speed3),axis=1)\n",
    "\n",
    "\n",
    "\n",
    "valid_drone2=pd.concat([valid_traveltime_drone2,invalid_traveltime_drone2])\n",
    "valid_drone2['timetaken_drone2']=valid_drone2.apply(lambda x: calculate_time(x['Journey Distance'],beta2,speed2),axis=1)\n",
    "valid_drone2['timetaken_drone1']=valid_drone2.apply(lambda x: calculate_time(x['Journey Distance'],beta1,speed1),axis=1)\n",
    "valid_drone2['timetaken_drone3']=valid_drone2.apply(lambda x: calculate_time(x['Journey Distance'],beta3,speed3),axis=1)\n",
    "\n",
    "\n",
    "\n",
    "valid_drone3=pd.concat([valid_traveltime_drone3,invalid_traveltime_drone3])\n",
    "valid_drone3['timetaken_drone3']=valid_drone3.apply(lambda x: calculate_time(x['Journey Distance'],beta3,speed3),axis=1)\n",
    "valid_drone3['timetaken_drone2']=valid_drone3.apply(lambda x: calculate_time(x['Journey Distance'],beta2,speed2),axis=1)\n",
    "valid_drone3['timetaken_drone1']=valid_drone3.apply(lambda x: calculate_time(x['Journey Distance'],beta1,speed1),axis=1)\n",
    "\n"
   ]
  },
  {
   "attachments": {
    "image.png": {
     "image/png": "[encoded data removed]"
    }
   },
   "cell_type": "markdown",
   "metadata": {},
   "source": [
    "## 11-6 Identifying wrong Travel time  \n",
    "\n",
    "#### Here, In drone type 1, there are <font color='red'>26</font> outliers, where mismatch is present.\n",
    "\n",
    "##### Expected result : given travel time of drone type 1 should be equal to calculated timetaken_drone1\n",
    "##### Actual result : given travel time of drone type 1 is not equal to calculated timetaken_drone1, instead equal to timetaken_drone2 for below highlighted scenario\n",
    "\n",
    "#### Solution:   \n",
    "* The time taken by drone 2 is the new travel time    \n",
    "* Drone type will be 2, since drone-type 2 was approximate to given travel time\n",
    "\n",
    "# ---------------------------------------------------------------------------------------------------------------\n",
    "![image.png](attachment:image.png)\n",
    "# ---------------------------------------------------------------------------------------------------------------"
   ]
  },
  {
   "cell_type": "code",
   "execution_count": 220,
   "metadata": {},
   "outputs": [
    {
     "name": "stdout",
     "output_type": "stream",
     "text": [
      "Outliers present in Drone type 1= 26\n"
     ]
    }
   ],
   "source": [
    "print(\"Outliers present in Drone type 1=\",len(valid_drone1[valid_drone1['Travel Time'] < valid_drone1['timetaken_drone1']]))"
   ]
  },
  {
   "cell_type": "markdown",
   "metadata": {},
   "source": [
    "---------------------------------------------------\n",
    "# 12 - Fixing invalid Drone-type\n",
    "\n",
    "### 12 -1 : Drone type=1"
   ]
  },
  {
   "cell_type": "code",
   "execution_count": 221,
   "metadata": {
    "collapsed": true
   },
   "outputs": [],
   "source": [
    "sample_df=valid_drone1[valid_drone1['Travel Time'] < valid_drone1['timetaken_drone1']]\n"
   ]
  },
  {
   "cell_type": "code",
   "execution_count": 222,
   "metadata": {
    "collapsed": true
   },
   "outputs": [],
   "source": [
    "# Below method cleans the invalid drone type\n",
    "\n",
    "def correct_dronetype(traveltime,timetaken_drone1,timetaken_drone2,timetaken_drone3):\n",
    "    if (traveltime == timetaken_drone1) | (traveltime == round((timetaken_drone1+0.01),2))|(traveltime == round((timetaken_drone1-0.01),2)):\n",
    "        return 1.0\n",
    "    elif (traveltime == timetaken_drone2) | (traveltime == round((timetaken_drone2+0.01),2))|(traveltime == round((timetaken_drone2-0.01),2)):\n",
    "        return 2.0\n",
    "    else:\n",
    "        return 3.0"
   ]
  },
  {
   "cell_type": "code",
   "execution_count": 223,
   "metadata": {
    "collapsed": true,
    "scrolled": false
   },
   "outputs": [],
   "source": [
    "sample_df['new']=sample_df.apply(lambda x: correct_dronetype(x['Travel Time'],x['timetaken_drone1'],x['timetaken_drone2'],x['timetaken_drone3']),axis=1)\n",
    "sample_df.drop(['Drone Type','timetaken_drone1'], axis=1, inplace=True)\n",
    "sample_df.rename(columns={'Travel Time':'timetaken_drone1','new':'Drone Type'}, inplace=True)"
   ]
  },
  {
   "cell_type": "code",
   "execution_count": 224,
   "metadata": {
    "collapsed": true
   },
   "outputs": [],
   "source": [
    "valid_drone1.update(sample_df)\n",
    "valid_drone1.drop(['Travel Time','timetaken_drone2','timetaken_drone3'], axis=1, inplace=True)\n",
    "valid_drone1.rename(columns={'timetaken_drone1':'Travel Time'}, inplace=True)"
   ]
  },
  {
   "cell_type": "markdown",
   "metadata": {},
   "source": [
    "### 12 -2 : Drone type=2"
   ]
  },
  {
   "cell_type": "code",
   "execution_count": 225,
   "metadata": {},
   "outputs": [
    {
     "name": "stdout",
     "output_type": "stream",
     "text": [
      "Outliers present in Drone type 2= 8\n"
     ]
    }
   ],
   "source": [
    "print(\"Outliers present in Drone type 2=\",len(valid_drone2[valid_drone2['Travel Time'] < valid_drone2['timetaken_drone2']]))"
   ]
  },
  {
   "cell_type": "code",
   "execution_count": 226,
   "metadata": {
    "collapsed": true
   },
   "outputs": [],
   "source": [
    "sample_df2=valid_drone2[valid_drone2['Travel Time'] < valid_drone2['timetaken_drone2']]\n",
    "\n",
    "sample_df2['new']=sample_df2.apply(lambda x: correct_dronetype(x['Travel Time'],x['timetaken_drone1'],x['timetaken_drone2'],x['timetaken_drone3']),axis=1)\n",
    "sample_df2.drop(['Drone Type','timetaken_drone1'], axis=1, inplace=True)\n",
    "sample_df2.rename(columns={'Travel Time':'timetaken_drone1','new':'Drone Type'}, inplace=True)"
   ]
  },
  {
   "cell_type": "code",
   "execution_count": 227,
   "metadata": {
    "collapsed": true
   },
   "outputs": [],
   "source": [
    "valid_drone2.update(sample_df)\n",
    "valid_drone2.drop(['Travel Time','timetaken_drone1','timetaken_drone3'], axis=1, inplace=True)\n",
    "valid_drone2.rename(columns={'timetaken_drone2':'Travel Time'}, inplace=True)"
   ]
  },
  {
   "cell_type": "markdown",
   "metadata": {},
   "source": [
    "### 12 -3 : Drone type=3\n",
    "#### There are no errors in Drone type 3, hence going ahead with concatinating all 3 dfs\n",
    "\n",
    "------------------------------------------------"
   ]
  },
  {
   "cell_type": "code",
   "execution_count": 228,
   "metadata": {
    "collapsed": true
   },
   "outputs": [],
   "source": [
    "valid_drone3.drop(['Travel Time','timetaken_drone1','timetaken_drone2'], axis=1, inplace=True)\n",
    "valid_drone3.rename(columns={'timetaken_drone3':'Travel Time'}, inplace=True)"
   ]
  },
  {
   "cell_type": "code",
   "execution_count": 229,
   "metadata": {
    "collapsed": true
   },
   "outputs": [],
   "source": [
    "# mapping all 3 dfs\n",
    "test1_df=pd.concat([valid_drone1,valid_drone2,valid_drone3])\n"
   ]
  },
  {
   "cell_type": "code",
   "execution_count": 230,
   "metadata": {
    "collapsed": true
   },
   "outputs": [],
   "source": [
    "# Updating the main df\n",
    "test_df.update(test1_df)\n"
   ]
  },
  {
   "cell_type": "markdown",
   "metadata": {},
   "source": [
    "### 12-4 Fixing null values in Drone type\n",
    "\n",
    "Below step confirms total 10 nulls are present for Drone Type\n",
    "\n",
    "Approach:\n",
    "\n",
    "* Find the 3 travel time, for respective drone type    \n",
    "* Identify which given travel time is equal to calculated drone time\n",
    "* fill the Drone type\n",
    "\n"
   ]
  },
  {
   "cell_type": "code",
   "execution_count": 231,
   "metadata": {},
   "outputs": [
    {
     "name": "stdout",
     "output_type": "stream",
     "text": [
      "Total null values in Drone Type 10\n"
     ]
    }
   ],
   "source": [
    "print(\"Total null values in Drone Type\",len(test_df[test_df['Drone Type'].isnull()]))"
   ]
  },
  {
   "cell_type": "code",
   "execution_count": 232,
   "metadata": {
    "collapsed": true
   },
   "outputs": [],
   "source": [
    "# Finding the 3 travel time, for respective droen type\n",
    "\n",
    "\n",
    "sample_nulldrone_df=test_df[test_df['Drone Type'].isnull()]\n",
    "\n",
    "\n",
    "sample_nulldrone_df['timetaken_drone1']=test_df.apply(lambda x: calculate_time(x['Journey Distance'],beta1,speed1),axis=1)\n",
    "sample_nulldrone_df['timetaken_drone2']=test_df.apply(lambda x: calculate_time(x['Journey Distance'],beta2,speed2),axis=1)\n",
    "sample_nulldrone_df['timetaken_drone3']=test_df.apply(lambda x: calculate_time(x['Journey Distance'],beta3,speed3),axis=1)\n",
    "\n",
    "\n",
    "# Filling the correct drone type, by using the function mentioned in 12-1\n",
    "sample_nulldrone_df['new']=sample_nulldrone_df.apply(lambda x: correct_dronetype(x['Travel Time'],x['timetaken_drone1'],x['timetaken_drone2'],x['timetaken_drone3']),axis=1)\n",
    "sample_nulldrone_df.drop(['Drone Type','timetaken_drone1','timetaken_drone2','timetaken_drone3'], axis=1, inplace=True)\n",
    "sample_nulldrone_df.rename(columns={'new':'Drone Type'}, inplace=True)"
   ]
  },
  {
   "cell_type": "code",
   "execution_count": 233,
   "metadata": {
    "collapsed": true
   },
   "outputs": [],
   "source": [
    "test_df.update(sample_nulldrone_df)"
   ]
  },
  {
   "cell_type": "markdown",
   "metadata": {},
   "source": [
    "----------------------------\n",
    "# 13- Delivery time\n",
    "\n",
    "\n",
    "### Formula 'Delivery time' = Departure time + Time taken"
   ]
  },
  {
   "cell_type": "code",
   "execution_count": 234,
   "metadata": {
    "collapsed": true
   },
   "outputs": [],
   "source": [
    "# Below steps calculates the correct Delivery time, based on Departure time and Travel time\n",
    "import time\n",
    "\n",
    "# below required to convert inton date format\n",
    "test_df['new_deptime'] = pd.to_timedelta(test_df['Departure Time']) / np.timedelta64(1, 'm')\n",
    "\n",
    "#below calculates the delivery time\n",
    "test_df['new_deltime'] = test_df['new_deptime']+test_df['Travel Time']\n",
    "test_df['new_deltime'] = test_df['new_deltime']*60\n",
    "test_df['calculated_deliverytime']=test_df['new_deltime'].apply(lambda x: time.strftime(\"%H:%M:%S\",time.gmtime(x)))\n",
    "\n",
    "# Dropping unwanted columns and saving the final dataframe\n",
    "test_df.drop(['new_deptime','new_deltime','Delivery Time'], axis=1, inplace=True)\n",
    "test_df.rename(columns={'calculated_deliverytime':'Delivery Time'}, inplace=True)"
   ]
  },
  {
   "cell_type": "markdown",
   "metadata": {},
   "source": [
    "---------------------------"
   ]
  },
  {
   "cell_type": "markdown",
   "metadata": {},
   "source": [
    "# 14- Delivery Price\n",
    "\n",
    "Approach : Delivery Price can be predicted based on linear modelling. Before that, final data is analyzed for outliers and post cleaning, price is predicted\n",
    "\n",
    "-----\n",
    "## 14-1 Divding the Departure time into intervals\n",
    "\n",
    "This step is required to analyze its affects on linear model prediction"
   ]
  },
  {
   "cell_type": "code",
   "execution_count": 235,
   "metadata": {
    "collapsed": true
   },
   "outputs": [],
   "source": [
    "# Below method is used to divide the Departure time into intervals of 1-morning  2-afternoon 3-night.\n",
    "\n",
    "# Range is morning (6:00:00 - 11:59:59), afternoon(12:00:00 - 20:59:59), and night (21:00 - 5:59:59)\n",
    "\n",
    "def interval(data):\n",
    "    data= data.split(':')\n",
    "    hour=int(data[0])\n",
    "    time_interval = [1,2,3] # 1-morning  2-afternoon 3-night\n",
    "    if 6 <= hour < 12:\n",
    "        return time_interval[0]\n",
    "    elif 12 <= hour < 21:\n",
    "        return time_interval[1]\n",
    "    else:\n",
    "        return time_interval[2]\n",
    "    \n",
    "test_df['interval']=test_df.apply(lambda x: interval(x['Departure Time']),axis=1)"
   ]
  },
  {
   "cell_type": "markdown",
   "metadata": {},
   "source": [
    "--------\n",
    "\n",
    "## 14-2 EDA on Delivery price"
   ]
  },
  {
   "cell_type": "code",
   "execution_count": 236,
   "metadata": {},
   "outputs": [
    {
     "data": {
      "text/plain": [
       "<seaborn.axisgrid.PairGrid at 0x209972812e8>"
      ]
     },
     "execution_count": 236,
     "metadata": {},
     "output_type": "execute_result"
    },
    {
     "data": {
      "image/png": "[encoded data removed]",
      "text/plain": [
       "<Figure size 1260x180 with 7 Axes>"
      ]
     },
     "metadata": {},
     "output_type": "display_data"
    }
   ],
   "source": [
    "# Below graph plots all features against Delivery fare\n",
    "\n",
    "\n",
    "sns.pairplot(test_df,x_vars=['Drone Type','Post Type','Package Weight','Origin Region','Destination Region','Journey Distance','interval'],y_vars='Delivery Fare',kind='reg')\n"
   ]
  },
  {
   "cell_type": "markdown",
   "metadata": {},
   "source": [
    "##### Drone type seem to have outliers and needs treatment"
   ]
  },
  {
   "cell_type": "markdown",
   "metadata": {},
   "source": [
    "##### Detection of outliers on Drone type"
   ]
  },
  {
   "cell_type": "code",
   "execution_count": 237,
   "metadata": {},
   "outputs": [
    {
     "data": {
      "text/plain": [
       "<matplotlib.axes._subplots.AxesSubplot at 0x2099ae537b8>"
      ]
     },
     "execution_count": 237,
     "metadata": {},
     "output_type": "execute_result"
    },
    {
     "data": {
      "image/png": "[encoded data removed]",
      "text/plain": [
       "<Figure size 1080x720 with 1 Axes>"
      ]
     },
     "metadata": {},
     "output_type": "display_data"
    }
   ],
   "source": [
    "# Below plots the box plot Drone type against Delivery fare\n",
    "\n",
    "plt.rcParams['figure.figsize']=15,10\n",
    "xi=test_df[['Delivery Fare','Drone Type']]\n",
    "sns.boxplot(data=xi,x='Drone Type',y='Delivery Fare')"
   ]
  },
  {
   "cell_type": "markdown",
   "metadata": {},
   "source": [
    "####  Analyis: Above confirms, there are outliers drone type versus delivery fare and hence needs removal of these outliers in order to proceed with the delivery fare prediction\n",
    "\n",
    "-------------"
   ]
  },
  {
   "cell_type": "markdown",
   "metadata": {},
   "source": [
    "### 14-3 Clean outliers in Drone type agaisnt Delivery fare"
   ]
  },
  {
   "cell_type": "code",
   "execution_count": 238,
   "metadata": {
    "collapsed": true
   },
   "outputs": [],
   "source": [
    "### This step calculated the outliers and clean them\n",
    "\n",
    "drone=list(range(1,4))\n",
    "\n",
    "\n",
    "df_drone_deliveryfare=test_df[['Delivery Fare','Drone Type']]\n",
    "\n",
    "#### Below method identifies the outliers by verfying the IQR range and filters them into cleaned and outlier data\n",
    "\n",
    "def clean_outlier(data_df):\n",
    "    df_clean = pd.DataFrame() \n",
    "    df_outlier = pd.DataFrame()     \n",
    "    for each in drone:\n",
    "        drone_df=data_df[data_df.iloc[:,-1]==[each]]\n",
    "        Q1 = drone_df.quantile(0.25)\n",
    "        Q3 = drone_df.quantile(0.75)\n",
    "        IQR = Q3 - Q1\n",
    "        \n",
    "        clean=drone_df[~((drone_df < (Q1 - 1.5 * IQR)) |(drone_df > (Q3 + 1.5 * IQR))).any(axis=1)]\n",
    "        df_clean=pd.concat([df_clean,clean])\n",
    "                               \n",
    "        outlier=drone_df[((drone_df < (Q1 - 1.5 * IQR)) |(drone_df > (Q3 + 1.5 * IQR))).any(axis=1)]\n",
    "        df_outlier=pd.concat([df_outlier,outlier])\n",
    "\n",
    "    return(df_clean,df_outlier)\n",
    "\n",
    "\n",
    "##### Below variables contain the cleaned and outlier data\n",
    "cleaned_data,outlier_data=clean_outlier(df_drone_deliveryfare)"
   ]
  },
  {
   "cell_type": "code",
   "execution_count": 239,
   "metadata": {
    "collapsed": true
   },
   "outputs": [],
   "source": [
    "# This step is required to map the cleaned data with the main data. Result is clean dataframe is extracted\n",
    "\n",
    "clean_df = test_df.index.isin(cleaned_data.index)\n",
    "clean_df=test_df[clean_df]"
   ]
  },
  {
   "cell_type": "code",
   "execution_count": 240,
   "metadata": {},
   "outputs": [
    {
     "data": {
      "text/plain": [
       "<matplotlib.axes._subplots.AxesSubplot at 0x2099958ec88>"
      ]
     },
     "execution_count": 240,
     "metadata": {},
     "output_type": "execute_result"
    },
    {
     "data": {
      "image/png": "[encoded data removed]",
      "text/plain": [
       "<Figure size 1080x720 with 1 Axes>"
      ]
     },
     "metadata": {},
     "output_type": "display_data"
    }
   ],
   "source": [
    "# Plotting and verfying for outlier removal\n",
    "\n",
    "plt.rcParams['figure.figsize']=15,10\n",
    "xi=clean_df[['Delivery Fare','Drone Type']]\n",
    "sns.boxplot(data=xi,x='Drone Type',y='Delivery Fare')"
   ]
  },
  {
   "cell_type": "code",
   "execution_count": 241,
   "metadata": {},
   "outputs": [
    {
     "name": "stdout",
     "output_type": "stream",
     "text": [
      " 36997 rows were present before outlier removal, and 36589 rows present after outlier removal\n"
     ]
    }
   ],
   "source": [
    "print(\" {} rows were present before outlier removal, and {} rows present after outlier removal\".format (len(test_df),len(clean_df)))"
   ]
  },
  {
   "cell_type": "markdown",
   "metadata": {},
   "source": [
    "-------\n",
    "### 14-4 Linear Modelling to predict Delivery Price\n"
   ]
  },
  {
   "cell_type": "markdown",
   "metadata": {},
   "source": [
    "#### 14-4-a Dividing the Delivery Price data into train and test"
   ]
  },
  {
   "cell_type": "code",
   "execution_count": 242,
   "metadata": {},
   "outputs": [
    {
     "data": {
      "text/html": [
       "<div>\n",
       "<style>\n",
       "    .dataframe thead tr:only-child th {\n",
       "        text-align: right;\n",
       "    }\n",
       "\n",
       "    .dataframe thead th {\n",
       "        text-align: left;\n",
       "    }\n",
       "\n",
       "    .dataframe tbody tr th {\n",
       "        vertical-align: top;\n",
       "    }\n",
       "</style>\n",
       "<table border=\"1\" class=\"dataframe\">\n",
       "  <thead>\n",
       "    <tr style=\"text-align: right;\">\n",
       "      <th></th>\n",
       "      <th>Drone Type</th>\n",
       "      <th>Post Type</th>\n",
       "      <th>Package Weight</th>\n",
       "      <th>Journey Distance</th>\n",
       "      <th>interval</th>\n",
       "      <th>Delivery Fare</th>\n",
       "    </tr>\n",
       "  </thead>\n",
       "  <tbody>\n",
       "    <tr>\n",
       "      <th>0</th>\n",
       "      <td>3.0</td>\n",
       "      <td>0.0</td>\n",
       "      <td>29.246</td>\n",
       "      <td>162.058</td>\n",
       "      <td>3</td>\n",
       "      <td>201.76</td>\n",
       "    </tr>\n",
       "    <tr>\n",
       "      <th>1</th>\n",
       "      <td>3.0</td>\n",
       "      <td>0.0</td>\n",
       "      <td>15.151</td>\n",
       "      <td>378.269</td>\n",
       "      <td>2</td>\n",
       "      <td>202.88</td>\n",
       "    </tr>\n",
       "    <tr>\n",
       "      <th>2</th>\n",
       "      <td>3.0</td>\n",
       "      <td>0.0</td>\n",
       "      <td>24.750</td>\n",
       "      <td>93.289</td>\n",
       "      <td>2</td>\n",
       "      <td>183.65</td>\n",
       "    </tr>\n",
       "    <tr>\n",
       "      <th>3</th>\n",
       "      <td>3.0</td>\n",
       "      <td>0.0</td>\n",
       "      <td>30.177</td>\n",
       "      <td>298.795</td>\n",
       "      <td>2</td>\n",
       "      <td>193.09</td>\n",
       "    </tr>\n",
       "    <tr>\n",
       "      <th>4</th>\n",
       "      <td>1.0</td>\n",
       "      <td>0.0</td>\n",
       "      <td>39.495</td>\n",
       "      <td>386.712</td>\n",
       "      <td>2</td>\n",
       "      <td>132.26</td>\n",
       "    </tr>\n",
       "  </tbody>\n",
       "</table>\n",
       "</div>"
      ],
      "text/plain": [
       "   Drone Type  Post Type  Package Weight  Journey Distance  interval  \\\n",
       "0         3.0        0.0          29.246           162.058         3   \n",
       "1         3.0        0.0          15.151           378.269         2   \n",
       "2         3.0        0.0          24.750            93.289         2   \n",
       "3         3.0        0.0          30.177           298.795         2   \n",
       "4         1.0        0.0          39.495           386.712         2   \n",
       "\n",
       "   Delivery Fare  \n",
       "0         201.76  \n",
       "1         202.88  \n",
       "2         183.65  \n",
       "3         193.09  \n",
       "4         132.26  "
      ]
     },
     "execution_count": 242,
     "metadata": {},
     "output_type": "execute_result"
    }
   ],
   "source": [
    "#Taking all numerical features \n",
    "\n",
    "lr_df=clean_df[['Drone Type','Post Type','Package Weight','Journey Distance','interval','Delivery Fare']]\n",
    "lr_df.head()"
   ]
  },
  {
   "cell_type": "code",
   "execution_count": 243,
   "metadata": {
    "collapsed": true
   },
   "outputs": [],
   "source": [
    "# Dividing the Delivery price data into train and test\n",
    "   #### Train contains all the not null values of delivery price\n",
    "   #### Test contains all the null values of delivery price\n",
    "\n",
    "train_fare_df=lr_df[lr_df['Delivery Fare'].notnull()]\n",
    "test_fare_df=lr_df[lr_df['Delivery Fare'].isnull()]"
   ]
  },
  {
   "cell_type": "markdown",
   "metadata": {},
   "source": [
    "#### 14-4-b Finding correlation"
   ]
  },
  {
   "cell_type": "code",
   "execution_count": 244,
   "metadata": {},
   "outputs": [
    {
     "data": {
      "text/html": [
       "<style  type=\"text/css\" >\n",
       "    #T_2e667b54_d4ce_11e8_aa08_c7b07f9d5475row0_col0 {\n",
       "            background-color:  #023858;\n",
       "        }    #T_2e667b54_d4ce_11e8_aa08_c7b07f9d5475row0_col1 {\n",
       "            background-color:  #fdf5fa;\n",
       "        }    #T_2e667b54_d4ce_11e8_aa08_c7b07f9d5475row0_col2 {\n",
       "            background-color:  #fef6fa;\n",
       "        }    #T_2e667b54_d4ce_11e8_aa08_c7b07f9d5475row0_col3 {\n",
       "            background-color:  #fef6fa;\n",
       "        }    #T_2e667b54_d4ce_11e8_aa08_c7b07f9d5475row0_col4 {\n",
       "            background-color:  #fff7fb;\n",
       "        }    #T_2e667b54_d4ce_11e8_aa08_c7b07f9d5475row0_col5 {\n",
       "            background-color:  #056caa;\n",
       "        }    #T_2e667b54_d4ce_11e8_aa08_c7b07f9d5475row1_col0 {\n",
       "            background-color:  #fef6fa;\n",
       "        }    #T_2e667b54_d4ce_11e8_aa08_c7b07f9d5475row1_col1 {\n",
       "            background-color:  #023858;\n",
       "        }    #T_2e667b54_d4ce_11e8_aa08_c7b07f9d5475row1_col2 {\n",
       "            background-color:  #fff7fb;\n",
       "        }    #T_2e667b54_d4ce_11e8_aa08_c7b07f9d5475row1_col3 {\n",
       "            background-color:  #fef6fb;\n",
       "        }    #T_2e667b54_d4ce_11e8_aa08_c7b07f9d5475row1_col4 {\n",
       "            background-color:  #fff7fb;\n",
       "        }    #T_2e667b54_d4ce_11e8_aa08_c7b07f9d5475row1_col5 {\n",
       "            background-color:  #99b8d8;\n",
       "        }    #T_2e667b54_d4ce_11e8_aa08_c7b07f9d5475row2_col0 {\n",
       "            background-color:  #fff7fb;\n",
       "        }    #T_2e667b54_d4ce_11e8_aa08_c7b07f9d5475row2_col1 {\n",
       "            background-color:  #fff7fb;\n",
       "        }    #T_2e667b54_d4ce_11e8_aa08_c7b07f9d5475row2_col2 {\n",
       "            background-color:  #023858;\n",
       "        }    #T_2e667b54_d4ce_11e8_aa08_c7b07f9d5475row2_col3 {\n",
       "            background-color:  #fff7fb;\n",
       "        }    #T_2e667b54_d4ce_11e8_aa08_c7b07f9d5475row2_col4 {\n",
       "            background-color:  #fef6fa;\n",
       "        }    #T_2e667b54_d4ce_11e8_aa08_c7b07f9d5475row2_col5 {\n",
       "            background-color:  #fff7fb;\n",
       "        }    #T_2e667b54_d4ce_11e8_aa08_c7b07f9d5475row3_col0 {\n",
       "            background-color:  #fef6fa;\n",
       "        }    #T_2e667b54_d4ce_11e8_aa08_c7b07f9d5475row3_col1 {\n",
       "            background-color:  #fdf5fa;\n",
       "        }    #T_2e667b54_d4ce_11e8_aa08_c7b07f9d5475row3_col2 {\n",
       "            background-color:  #fef6fb;\n",
       "        }    #T_2e667b54_d4ce_11e8_aa08_c7b07f9d5475row3_col3 {\n",
       "            background-color:  #023858;\n",
       "        }    #T_2e667b54_d4ce_11e8_aa08_c7b07f9d5475row3_col4 {\n",
       "            background-color:  #fef6fa;\n",
       "        }    #T_2e667b54_d4ce_11e8_aa08_c7b07f9d5475row3_col5 {\n",
       "            background-color:  #d5d5e8;\n",
       "        }    #T_2e667b54_d4ce_11e8_aa08_c7b07f9d5475row4_col0 {\n",
       "            background-color:  #fff7fb;\n",
       "        }    #T_2e667b54_d4ce_11e8_aa08_c7b07f9d5475row4_col1 {\n",
       "            background-color:  #fef6fa;\n",
       "        }    #T_2e667b54_d4ce_11e8_aa08_c7b07f9d5475row4_col2 {\n",
       "            background-color:  #fdf5fa;\n",
       "        }    #T_2e667b54_d4ce_11e8_aa08_c7b07f9d5475row4_col3 {\n",
       "            background-color:  #fef6fa;\n",
       "        }    #T_2e667b54_d4ce_11e8_aa08_c7b07f9d5475row4_col4 {\n",
       "            background-color:  #023858;\n",
       "        }    #T_2e667b54_d4ce_11e8_aa08_c7b07f9d5475row4_col5 {\n",
       "            background-color:  #a5bddb;\n",
       "        }    #T_2e667b54_d4ce_11e8_aa08_c7b07f9d5475row5_col0 {\n",
       "            background-color:  #056ba9;\n",
       "        }    #T_2e667b54_d4ce_11e8_aa08_c7b07f9d5475row5_col1 {\n",
       "            background-color:  #91b5d6;\n",
       "        }    #T_2e667b54_d4ce_11e8_aa08_c7b07f9d5475row5_col2 {\n",
       "            background-color:  #faf3f9;\n",
       "        }    #T_2e667b54_d4ce_11e8_aa08_c7b07f9d5475row5_col3 {\n",
       "            background-color:  #d1d2e6;\n",
       "        }    #T_2e667b54_d4ce_11e8_aa08_c7b07f9d5475row5_col4 {\n",
       "            background-color:  #9fbad9;\n",
       "        }    #T_2e667b54_d4ce_11e8_aa08_c7b07f9d5475row5_col5 {\n",
       "            background-color:  #023858;\n",
       "        }</style>  \n",
       "<table id=\"T_2e667b54_d4ce_11e8_aa08_c7b07f9d5475\" > \n",
       "<thead>    <tr> \n",
       "        <th class=\"blank level0\" ></th> \n",
       "        <th class=\"col_heading level0 col0\" >Drone Type</th> \n",
       "        <th class=\"col_heading level0 col1\" >Post Type</th> \n",
       "        <th class=\"col_heading level0 col2\" >Package Weight</th> \n",
       "        <th class=\"col_heading level0 col3\" >Journey Distance</th> \n",
       "        <th class=\"col_heading level0 col4\" >interval</th> \n",
       "        <th class=\"col_heading level0 col5\" >Delivery Fare</th> \n",
       "    </tr></thead> \n",
       "<tbody>    <tr> \n",
       "        <th id=\"T_2e667b54_d4ce_11e8_aa08_c7b07f9d5475\" class=\"row_heading level0 row0\" >Drone Type</th> \n",
       "        <td id=\"T_2e667b54_d4ce_11e8_aa08_c7b07f9d5475row0_col0\" class=\"data row0 col0\" >1</td> \n",
       "        <td id=\"T_2e667b54_d4ce_11e8_aa08_c7b07f9d5475row0_col1\" class=\"data row0 col1\" >0.0018663</td> \n",
       "        <td id=\"T_2e667b54_d4ce_11e8_aa08_c7b07f9d5475row0_col2\" class=\"data row0 col2\" >-0.00444609</td> \n",
       "        <td id=\"T_2e667b54_d4ce_11e8_aa08_c7b07f9d5475row0_col3\" class=\"data row0 col3\" >0.00243664</td> \n",
       "        <td id=\"T_2e667b54_d4ce_11e8_aa08_c7b07f9d5475row0_col4\" class=\"data row0 col4\" >-0.00686566</td> \n",
       "        <td id=\"T_2e667b54_d4ce_11e8_aa08_c7b07f9d5475row0_col5\" class=\"data row0 col5\" >0.774963</td> \n",
       "    </tr>    <tr> \n",
       "        <th id=\"T_2e667b54_d4ce_11e8_aa08_c7b07f9d5475\" class=\"row_heading level0 row1\" >Post Type</th> \n",
       "        <td id=\"T_2e667b54_d4ce_11e8_aa08_c7b07f9d5475row1_col0\" class=\"data row1 col0\" >0.0018663</td> \n",
       "        <td id=\"T_2e667b54_d4ce_11e8_aa08_c7b07f9d5475row1_col1\" class=\"data row1 col1\" >1</td> \n",
       "        <td id=\"T_2e667b54_d4ce_11e8_aa08_c7b07f9d5475row1_col2\" class=\"data row1 col2\" >-0.0145613</td> \n",
       "        <td id=\"T_2e667b54_d4ce_11e8_aa08_c7b07f9d5475row1_col3\" class=\"data row1 col3\" >-0.00210356</td> \n",
       "        <td id=\"T_2e667b54_d4ce_11e8_aa08_c7b07f9d5475row1_col4\" class=\"data row1 col4\" >-0.00466742</td> \n",
       "        <td id=\"T_2e667b54_d4ce_11e8_aa08_c7b07f9d5475row1_col5\" class=\"data row1 col5\" >0.418818</td> \n",
       "    </tr>    <tr> \n",
       "        <th id=\"T_2e667b54_d4ce_11e8_aa08_c7b07f9d5475\" class=\"row_heading level0 row2\" >Package Weight</th> \n",
       "        <td id=\"T_2e667b54_d4ce_11e8_aa08_c7b07f9d5475row2_col0\" class=\"data row2 col0\" >-0.00444609</td> \n",
       "        <td id=\"T_2e667b54_d4ce_11e8_aa08_c7b07f9d5475row2_col1\" class=\"data row2 col1\" >-0.0145613</td> \n",
       "        <td id=\"T_2e667b54_d4ce_11e8_aa08_c7b07f9d5475row2_col2\" class=\"data row2 col2\" >1</td> \n",
       "        <td id=\"T_2e667b54_d4ce_11e8_aa08_c7b07f9d5475row2_col3\" class=\"data row2 col3\" >-0.00789526</td> \n",
       "        <td id=\"T_2e667b54_d4ce_11e8_aa08_c7b07f9d5475row2_col4\" class=\"data row2 col4\" >0.00227662</td> \n",
       "        <td id=\"T_2e667b54_d4ce_11e8_aa08_c7b07f9d5475row2_col5\" class=\"data row2 col5\" >0.0193608</td> \n",
       "    </tr>    <tr> \n",
       "        <th id=\"T_2e667b54_d4ce_11e8_aa08_c7b07f9d5475\" class=\"row_heading level0 row3\" >Journey Distance</th> \n",
       "        <td id=\"T_2e667b54_d4ce_11e8_aa08_c7b07f9d5475row3_col0\" class=\"data row3 col0\" >0.00243664</td> \n",
       "        <td id=\"T_2e667b54_d4ce_11e8_aa08_c7b07f9d5475row3_col1\" class=\"data row3 col1\" >-0.00210356</td> \n",
       "        <td id=\"T_2e667b54_d4ce_11e8_aa08_c7b07f9d5475row3_col2\" class=\"data row3 col2\" >-0.00789526</td> \n",
       "        <td id=\"T_2e667b54_d4ce_11e8_aa08_c7b07f9d5475row3_col3\" class=\"data row3 col3\" >1</td> \n",
       "        <td id=\"T_2e667b54_d4ce_11e8_aa08_c7b07f9d5475row3_col4\" class=\"data row3 col4\" >0.00239813</td> \n",
       "        <td id=\"T_2e667b54_d4ce_11e8_aa08_c7b07f9d5475row3_col5\" class=\"data row3 col5\" >0.243234</td> \n",
       "    </tr>    <tr> \n",
       "        <th id=\"T_2e667b54_d4ce_11e8_aa08_c7b07f9d5475\" class=\"row_heading level0 row4\" >interval</th> \n",
       "        <td id=\"T_2e667b54_d4ce_11e8_aa08_c7b07f9d5475row4_col0\" class=\"data row4 col0\" >-0.00686566</td> \n",
       "        <td id=\"T_2e667b54_d4ce_11e8_aa08_c7b07f9d5475row4_col1\" class=\"data row4 col1\" >-0.00466742</td> \n",
       "        <td id=\"T_2e667b54_d4ce_11e8_aa08_c7b07f9d5475row4_col2\" class=\"data row4 col2\" >0.00227662</td> \n",
       "        <td id=\"T_2e667b54_d4ce_11e8_aa08_c7b07f9d5475row4_col3\" class=\"data row4 col3\" >0.00239813</td> \n",
       "        <td id=\"T_2e667b54_d4ce_11e8_aa08_c7b07f9d5475row4_col4\" class=\"data row4 col4\" >1</td> \n",
       "        <td id=\"T_2e667b54_d4ce_11e8_aa08_c7b07f9d5475row4_col5\" class=\"data row4 col5\" >0.38917</td> \n",
       "    </tr>    <tr> \n",
       "        <th id=\"T_2e667b54_d4ce_11e8_aa08_c7b07f9d5475\" class=\"row_heading level0 row5\" >Delivery Fare</th> \n",
       "        <td id=\"T_2e667b54_d4ce_11e8_aa08_c7b07f9d5475row5_col0\" class=\"data row5 col0\" >0.774963</td> \n",
       "        <td id=\"T_2e667b54_d4ce_11e8_aa08_c7b07f9d5475row5_col1\" class=\"data row5 col1\" >0.418818</td> \n",
       "        <td id=\"T_2e667b54_d4ce_11e8_aa08_c7b07f9d5475row5_col2\" class=\"data row5 col2\" >0.0193608</td> \n",
       "        <td id=\"T_2e667b54_d4ce_11e8_aa08_c7b07f9d5475row5_col3\" class=\"data row5 col3\" >0.243234</td> \n",
       "        <td id=\"T_2e667b54_d4ce_11e8_aa08_c7b07f9d5475row5_col4\" class=\"data row5 col4\" >0.38917</td> \n",
       "        <td id=\"T_2e667b54_d4ce_11e8_aa08_c7b07f9d5475row5_col5\" class=\"data row5 col5\" >1</td> \n",
       "    </tr></tbody> \n",
       "</table> "
      ],
      "text/plain": [
       "<pandas.io.formats.style.Styler at 0x2099be66a58>"
      ]
     },
     "execution_count": 244,
     "metadata": {},
     "output_type": "execute_result"
    }
   ],
   "source": [
    "# Plotting the correlation and analysis step\n",
    "\n",
    "corr = train_fare_df.corr()\n",
    "corr.style.background_gradient()\n"
   ]
  },
  {
   "cell_type": "markdown",
   "metadata": {},
   "source": [
    "#### Analysis:\n",
    "1) Drone Type & Delivery Fare are highly correlated         \n",
    "2) Post Type,interval & Delivery Fare are correlated at medium level       \n",
    "3) Package weight,Journey Distance & Delivery Fare ar correlated at low level           \n",
    "4) Origin Region, Destination Region very less correlation, <font color='red'>hence can be removed for modelling <font>   \n"
   ]
  },
  {
   "cell_type": "markdown",
   "metadata": {},
   "source": [
    "#### 14-4-c Further analysis on Price-Train data & Model Evaluation"
   ]
  },
  {
   "cell_type": "code",
   "execution_count": 245,
   "metadata": {
    "collapsed": true
   },
   "outputs": [],
   "source": [
    "#Splitting the data on price training data.\n",
    "  ## This step is required to evaluate model\n",
    "\n",
    "from sklearn.cross_validation import train_test_split\n",
    "\n",
    "X_train, X_test, y_train, y_test = train_test_split(train_fare_df.iloc[:,:-1],train_fare_df.iloc[:,-1:], random_state = 111)"
   ]
  },
  {
   "cell_type": "code",
   "execution_count": 246,
   "metadata": {},
   "outputs": [
    {
     "data": {
      "text/plain": [
       "LinearRegression(copy_X=True, fit_intercept=True, n_jobs=1, normalize=False)"
      ]
     },
     "execution_count": 246,
     "metadata": {},
     "output_type": "execute_result"
    }
   ],
   "source": [
    "from sklearn.linear_model import LinearRegression\n",
    "\n",
    "# Linear model is applied on X_train and y_train\n",
    "\n",
    "lm_full = LinearRegression() # object of Linear Regression\n",
    "\n",
    "lm_full.fit(X_train,y_train)"
   ]
  },
  {
   "cell_type": "code",
   "execution_count": 247,
   "metadata": {
    "collapsed": true
   },
   "outputs": [],
   "source": [
    "# Predicting the price based on X_test\n",
    "\n",
    "y_pred=lm_full.predict(X_test) "
   ]
  },
  {
   "cell_type": "code",
   "execution_count": 248,
   "metadata": {},
   "outputs": [
    {
     "name": "stdout",
     "output_type": "stream",
     "text": [
      "R-squared for this model =  0.9915422858083026\n",
      "\n",
      "RMSE of the model= 3.3477328732240794\n"
     ]
    }
   ],
   "source": [
    "# Model Evaluation\n",
    "\n",
    "# Finding R-Square\n",
    "\n",
    "print ('R-squared for this model = ',lm_full.score(X_test,y_test))\n",
    "\n",
    "# Finding RMSE\n",
    "\n",
    "print('\\nRMSE of the model=',np.sqrt(mean_squared_error(y_pred,y_test)))"
   ]
  },
  {
   "cell_type": "code",
   "execution_count": 249,
   "metadata": {},
   "outputs": [
    {
     "data": {
      "text/plain": [
       "Text(0.5,1,'Linear Fit Graph')"
      ]
     },
     "execution_count": 249,
     "metadata": {},
     "output_type": "execute_result"
    },
    {
     "data": {
      "image/png": "[encoded data removed]",
      "text/plain": [
       "<Figure size 1080x720 with 1 Axes>"
      ]
     },
     "metadata": {},
     "output_type": "display_data"
    }
   ],
   "source": [
    "plt.scatter(y_pred,y_test)\n",
    "plt.xlabel('y_pred')\n",
    "plt.ylabel('y_test')\n",
    "plt.title('Linear Fit Graph')"
   ]
  },
  {
   "cell_type": "markdown",
   "metadata": {},
   "source": [
    "##### The relation between given and predicted fare is linear in relation           &            R-squared = 0.99 and RMSE = 3.347. Based on above inference, I am concluding that model is good for predicting\n",
    "\n",
    "------------\n"
   ]
  },
  {
   "cell_type": "markdown",
   "metadata": {},
   "source": [
    "#### 14-4-d Predicting Delivery Price\n",
    "\n",
    "The final model is run on predicting the unknown values of Delivery Price"
   ]
  },
  {
   "cell_type": "code",
   "execution_count": 250,
   "metadata": {
    "collapsed": true
   },
   "outputs": [],
   "source": [
    "# All the null values in test_fare_df is predicted\n",
    "\n",
    "test_fare_df['Delivery Fare'][test_fare_df['Delivery Fare'].isnull()] = lm_full.predict(test_fare_df.drop(['Delivery Fare'],axis=1)) \n",
    "\n",
    "\n",
    "test_fare_df['Delivery Fare']=round(test_fare_df['Delivery Fare'],2)"
   ]
  },
  {
   "cell_type": "code",
   "execution_count": 251,
   "metadata": {
    "collapsed": true
   },
   "outputs": [],
   "source": [
    "# Updating the main dataframe\n",
    "\n",
    "test_df['Delivery Fare'][test_df['Delivery Fare'].isnull()] = test_fare_df['Delivery Fare']\n",
    "\n",
    "test_df.drop(['interval'], axis=1, inplace=True) # dropping the interval column\n"
   ]
  },
  {
   "cell_type": "code",
   "execution_count": 252,
   "metadata": {},
   "outputs": [
    {
     "data": {
      "text/html": [
       "<div>\n",
       "<style>\n",
       "    .dataframe thead tr:only-child th {\n",
       "        text-align: right;\n",
       "    }\n",
       "\n",
       "    .dataframe thead th {\n",
       "        text-align: left;\n",
       "    }\n",
       "\n",
       "    .dataframe tbody tr th {\n",
       "        vertical-align: top;\n",
       "    }\n",
       "</style>\n",
       "<table border=\"1\" class=\"dataframe\">\n",
       "  <thead>\n",
       "    <tr style=\"text-align: right;\">\n",
       "      <th></th>\n",
       "      <th>Id</th>\n",
       "      <th>Drone Type</th>\n",
       "      <th>Post Type</th>\n",
       "      <th>Package Weight</th>\n",
       "      <th>Origin Region</th>\n",
       "      <th>Destination Region</th>\n",
       "      <th>Origin Latitude</th>\n",
       "      <th>Origin Longitude</th>\n",
       "      <th>Destination Latitude</th>\n",
       "      <th>Destination Longitude</th>\n",
       "      <th>Departure Date</th>\n",
       "      <th>Departure Time</th>\n",
       "      <th>Travel Time</th>\n",
       "      <th>Delivery Fare</th>\n",
       "      <th>Journey Distance</th>\n",
       "      <th>Delivery Time</th>\n",
       "    </tr>\n",
       "  </thead>\n",
       "  <tbody>\n",
       "  </tbody>\n",
       "</table>\n",
       "</div>"
      ],
      "text/plain": [
       "Empty DataFrame\n",
       "Columns: [Id, Drone Type, Post Type, Package Weight, Origin Region, Destination Region, Origin Latitude, Origin Longitude, Destination Latitude, Destination Longitude, Departure Date, Departure Time, Travel Time, Delivery Fare, Journey Distance, Delivery Time]\n",
       "Index: []"
      ]
     },
     "execution_count": 252,
     "metadata": {},
     "output_type": "execute_result"
    }
   ],
   "source": [
    "#Verifying for any duplicate values.\n",
    "\n",
    "test_df[test_df.duplicated]\n",
    "\n",
    "\n",
    "#This confirms no duplicates values are present."
   ]
  },
  {
   "cell_type": "markdown",
   "metadata": {},
   "source": [
    "----------\n",
    "\n",
    "# 15 - Saving to csv file"
   ]
  },
  {
   "cell_type": "code",
   "execution_count": 98,
   "metadata": {
    "collapsed": true
   },
   "outputs": [],
   "source": [
    "# saving to csv file\n",
    "\n",
    "test_df.to_csv('29389690_solution.csv', encoding='utf-8', index=False)\n",
    "\n"
   ]
  },
  {
   "cell_type": "code",
   "execution_count": 253,
   "metadata": {},
   "outputs": [
    {
     "data": {
      "text/html": [
       "<div>\n",
       "<style>\n",
       "    .dataframe thead tr:only-child th {\n",
       "        text-align: right;\n",
       "    }\n",
       "\n",
       "    .dataframe thead th {\n",
       "        text-align: left;\n",
       "    }\n",
       "\n",
       "    .dataframe tbody tr th {\n",
       "        vertical-align: top;\n",
       "    }\n",
       "</style>\n",
       "<table border=\"1\" class=\"dataframe\">\n",
       "  <thead>\n",
       "    <tr style=\"text-align: right;\">\n",
       "      <th></th>\n",
       "      <th>Id</th>\n",
       "      <th>Drone Type</th>\n",
       "      <th>Post Type</th>\n",
       "      <th>Package Weight</th>\n",
       "      <th>Origin Region</th>\n",
       "      <th>Destination Region</th>\n",
       "      <th>Origin Latitude</th>\n",
       "      <th>Origin Longitude</th>\n",
       "      <th>Destination Latitude</th>\n",
       "      <th>Destination Longitude</th>\n",
       "      <th>Departure Date</th>\n",
       "      <th>Departure Time</th>\n",
       "      <th>Travel Time</th>\n",
       "      <th>Delivery Fare</th>\n",
       "      <th>Journey Distance</th>\n",
       "      <th>Delivery Time</th>\n",
       "    </tr>\n",
       "  </thead>\n",
       "  <tbody>\n",
       "    <tr>\n",
       "      <th>70</th>\n",
       "      <td>ID1625703837</td>\n",
       "      <td>3.0</td>\n",
       "      <td>0.0</td>\n",
       "      <td>12.292</td>\n",
       "      <td>26.0</td>\n",
       "      <td>33.0</td>\n",
       "      <td>-37.711307</td>\n",
       "      <td>147.16704</td>\n",
       "      <td>-37.707562</td>\n",
       "      <td>145.448786</td>\n",
       "      <td>9/02/2018</td>\n",
       "      <td>19:01:18</td>\n",
       "      <td>132.84</td>\n",
       "      <td>183.58</td>\n",
       "      <td>151.317</td>\n",
       "      <td>21:14:08</td>\n",
       "    </tr>\n",
       "  </tbody>\n",
       "</table>\n",
       "</div>"
      ],
      "text/plain": [
       "              Id  Drone Type  Post Type  Package Weight  Origin Region  \\\n",
       "70  ID1625703837         3.0        0.0          12.292           26.0   \n",
       "\n",
       "    Destination Region  Origin Latitude  Origin Longitude  \\\n",
       "70                33.0       -37.711307         147.16704   \n",
       "\n",
       "    Destination Latitude  Destination Longitude Departure Date Departure Time  \\\n",
       "70            -37.707562             145.448786      9/02/2018       19:01:18   \n",
       "\n",
       "    Travel Time  Delivery Fare  Journey Distance Delivery Time  \n",
       "70       132.84         183.58           151.317      21:14:08  "
      ]
     },
     "execution_count": 253,
     "metadata": {},
     "output_type": "execute_result"
    }
   ],
   "source": [
    "test_df[test_df['Id']=='ID1625703837']"
   ]
  },
  {
   "cell_type": "markdown",
   "metadata": {},
   "source": [
    "# 16 - Conclusion:\n",
    "\n",
    "* 36987 rows are the final cleaned data out of total 37057 rows.\n",
    "* Origin_Latitude: Total number of errors fixed: 20,    \n",
    "* Destination_Latitude: Total number of errors fixed: 20,   \n",
    "* Destination_Longitude: Total number of errors fixed 20,     \n",
    "* Post_Type: Total number of errors fixed: 20,    \n",
    "* Distance: Total number of errors: fixed: 14,    \n",
    "* Both Origin and Destination regions are fixed, based on KNN model\n",
    "    * Origin_Region: Total number of errors fixed: 30,         \n",
    "    * Destination_Region: Total number of errors fixed: 30,    \n",
    "* Departure_Date: Total number of errors fixed: 220, \n",
    "* Drone_Type: Total number of errors fixed: 36, \n",
    "* Travel_Time: Total number of errors fixed: 40,    \n",
    "* Fare: Total number of errors fixed: 30\n",
    "* Duplicated rows and Id=nulls are dropped\n",
    "    * Null_Id: Total number of errors fixed: 23\n",
    "* Departure_Time: Total number of errors fixed: 40,\n",
    "* Finally, Delivery Fare is calculated based on Linear model\n"
   ]
  },
  {
   "cell_type": "markdown",
   "metadata": {},
   "source": [
    "# 17-  References\n",
    "* 5 -  https://codereview.stackexchange.com/questions/200176/cleaning-up-date-strings-in-python\n",
    "* 5-2 - https://stackoverflow.com/questions/16870663/how-do-i-validate-a-date-string-format-in-python\n",
    "* 8 - https://stackoverflow.com/questions/19412462/getting-distance-between-two-points-based-on-latitude-longitude\n",
    "* 9-2,10-2  - https://towardsdatascience.com/ways-to-detect-and-remove-the-outliers-404d16608dba\n",
    "* 9-3  - https://www.analyticsvidhya.com/blog/2018/08/k-nearest-neighbor-introduction-regression-python/\n",
    "\n"
   ]
  }
 ],
 "metadata": {
  "kernelspec": {
   "display_name": "Python 3",
   "language": "python",
   "name": "python3"
  },
  "language_info": {
   "codemirror_mode": {
    "name": "ipython",
    "version": 3
   },
   "file_extension": ".py",
   "mimetype": "text/x-python",
   "name": "python",
   "nbconvert_exporter": "python",
   "pygments_lexer": "ipython3",
   "version": "3.6.7"
  }
 },
 "nbformat": 4,
 "nbformat_minor": 2
}
